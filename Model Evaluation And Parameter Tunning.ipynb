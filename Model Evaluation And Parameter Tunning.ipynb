{
 "cells": [
  {
   "cell_type": "code",
   "execution_count": 1,
   "metadata": {},
   "outputs": [
    {
     "name": "stderr",
     "output_type": "stream",
     "text": [
      "C:\\Users\\User\\anaconda\\anaconda3\\lib\\importlib\\_bootstrap.py:219: RuntimeWarning: numpy.ufunc size changed, may indicate binary incompatibility. Expected 192 from C header, got 216 from PyObject\n",
      "  return f(*args, **kwds)\n"
     ]
    }
   ],
   "source": [
    "import pandas as pd\n",
    "import numpy as np\n",
    "from sklearn.metrics import auc, roc_curve, make_scorer, f1_score, precision_score, recall_score, confusion_matrix \n",
    "from sklearn.model_selection import cross_val_score, learning_curve, validation_curve, StratifiedKFold, train_test_split, GridSearchCV\n",
    "from sklearn.preprocessing import StandardScaler, LabelEncoder\n",
    "from sklearn.decomposition import PCA\n",
    "from sklearn.linear_model import LogisticRegression\n",
    "from sklearn.tree import DecisionTreeClassifier\n",
    "from sklearn.neighbors import KNeighborsClassifier\n",
    "from sklearn.svm import SVC\n",
    "from sklearn.ensemble import RandomForestClassifier, GradientBoostingClassifier, AdaBoostClassifier"
   ]
  },
  {
   "cell_type": "markdown",
   "metadata": {},
   "source": [
    "#### Iris DataSet "
   ]
  },
  {
   "cell_type": "code",
   "execution_count": 31,
   "metadata": {},
   "outputs": [],
   "source": [
    "from sklearn.datasets import load_diabetes\n",
    "iris = load_iris()"
   ]
  },
  {
   "cell_type": "code",
   "execution_count": 32,
   "metadata": {},
   "outputs": [],
   "source": [
    "X, y = iris.data, iris.target"
   ]
  },
  {
   "cell_type": "code",
   "execution_count": 33,
   "metadata": {},
   "outputs": [
    {
     "data": {
      "text/plain": [
       "(150, 4)"
      ]
     },
     "execution_count": 33,
     "metadata": {},
     "output_type": "execute_result"
    }
   ],
   "source": [
    "X.shape"
   ]
  },
  {
   "cell_type": "code",
   "execution_count": 34,
   "metadata": {},
   "outputs": [],
   "source": [
    "X_train, X_test ,y_train, y_test = train_test_split(X, y, test_size = 0.20)"
   ]
  },
  {
   "cell_type": "code",
   "execution_count": 35,
   "metadata": {},
   "outputs": [
    {
     "data": {
      "text/plain": [
       "(120, 4)"
      ]
     },
     "execution_count": 35,
     "metadata": {},
     "output_type": "execute_result"
    }
   ],
   "source": [
    "X_train.shape"
   ]
  },
  {
   "cell_type": "markdown",
   "metadata": {},
   "source": [
    "#### Pipeline "
   ]
  },
  {
   "cell_type": "code",
   "execution_count": 20,
   "metadata": {},
   "outputs": [],
   "source": [
    "from sklearn.pipeline import Pipeline, make_pipeline"
   ]
  },
  {
   "cell_type": "code",
   "execution_count": 63,
   "metadata": {},
   "outputs": [],
   "source": [
    "pipe_lr = make_pipeline(StandardScaler(),\n",
    "                       PCA(n_components=2),\n",
    "                       LogisticRegression())\n",
    "\n",
    "pipe_svc = make_pipeline(StandardScaler(),\n",
    "                        PCA(n_components=2),\n",
    "                        SVC())\n",
    "\n",
    "pipe_dt = make_pipeline(PCA(n_components=2),\n",
    "                       DecisionTreeClassifier())\n",
    "\n",
    "pipe_rf = make_pipeline(PCA(n_components=2),\n",
    "                       RandomForestClassifier())\n",
    "\n",
    "pipe_knn = make_pipeline(StandardScaler(),\n",
    "                        PCA(n_components=2),\n",
    "                        KNeighborsClassifier())\n",
    "\n",
    "pipe_gb = make_pipeline(PCA(n_components=2),\n",
    "                       GradientBoostingClassifier())\n",
    "\n",
    "pipe_ada = make_pipeline(PCA(n_components=2),\n",
    "                        AdaBoostClassifier())"
   ]
  },
  {
   "cell_type": "markdown",
   "metadata": {},
   "source": [
    "#### K-Fold Cross Validation"
   ]
  },
  {
   "cell_type": "code",
   "execution_count": 36,
   "metadata": {},
   "outputs": [
    {
     "name": "stdout",
     "output_type": "stream",
     "text": [
      "Fold: 1, Lr Accuracy: 0.8333333333333334\n",
      "Fold: 2, Lr Accuracy: 0.9583333333333334\n",
      "Fold: 3, Lr Accuracy: 0.875\n",
      "Fold: 4, Lr Accuracy: 1.0\n",
      "Fold: 5, Lr Accuracy: 0.875\n"
     ]
    }
   ],
   "source": [
    "kfold = StratifiedKFold().split(X_train, y_train)\n",
    "\n",
    "scores_lr= []\n",
    "\n",
    "for k,(train,test) in enumerate(kfold):\n",
    "    \n",
    "    pipe_lr.fit(X_train[train],y_train[train])\n",
    "    \n",
    "    score_lr = pipe_lr.score(X_train[test], y_train[test])\n",
    "    scores_lr.append(score_lr)\n",
    "    print(f'Fold: {k+1}, Lr Accuracy: {score_lr}')"
   ]
  },
  {
   "cell_type": "code",
   "execution_count": 58,
   "metadata": {},
   "outputs": [],
   "source": [
    "def cross_k_fold(X_train, y_train, pipe, model):\n",
    "    \n",
    "    scores= []\n",
    "    kfold = StratifiedKFold().split(X_train, y_train)\n",
    "\n",
    "    for k,(train,test) in enumerate(kfold):\n",
    "\n",
    "        pipe_knn.fit(X_train[train],y_train[train])\n",
    "\n",
    "        score = pipe_knn.score(X_train[test], y_train[test])\n",
    "        scores.append(score)\n",
    "        print(f'Fold: {k+1}, {model.upper()} Accuracy: {score}')"
   ]
  },
  {
   "cell_type": "code",
   "execution_count": null,
   "metadata": {},
   "outputs": [],
   "source": []
  },
  {
   "cell_type": "code",
   "execution_count": 70,
   "metadata": {},
   "outputs": [
    {
     "name": "stdout",
     "output_type": "stream",
     "text": [
      "Fold: 1, LR Accuracy: 0.8333333333333334\n",
      "Fold: 2, LR Accuracy: 0.9583333333333334\n",
      "Fold: 3, LR Accuracy: 0.875\n",
      "Fold: 4, LR Accuracy: 1.0\n",
      "Fold: 5, LR Accuracy: 0.875\n",
      "None\n",
      "Fold: 1, SVC Accuracy: 0.8333333333333334\n",
      "Fold: 2, SVC Accuracy: 0.9583333333333334\n",
      "Fold: 3, SVC Accuracy: 0.8333333333333334\n",
      "Fold: 4, SVC Accuracy: 1.0\n",
      "Fold: 5, SVC Accuracy: 0.875\n",
      "None\n",
      "Fold: 1, KNN Accuracy: 0.8333333333333334\n",
      "Fold: 2, KNN Accuracy: 0.9583333333333334\n",
      "Fold: 3, KNN Accuracy: 0.8333333333333334\n",
      "Fold: 4, KNN Accuracy: 1.0\n",
      "Fold: 5, KNN Accuracy: 0.9166666666666666\n",
      "None\n",
      "Fold: 1, DECISION TREE Accuracy: 0.9166666666666666\n",
      "Fold: 2, DECISION TREE Accuracy: 0.8333333333333334\n",
      "Fold: 3, DECISION TREE Accuracy: 0.9583333333333334\n",
      "Fold: 4, DECISION TREE Accuracy: 0.9583333333333334\n",
      "Fold: 5, DECISION TREE Accuracy: 0.875\n",
      "None\n",
      "Fold: 1, GRADIENT BOOSTING Accuracy: 0.9166666666666666\n",
      "Fold: 2, GRADIENT BOOSTING Accuracy: 0.8333333333333334\n",
      "Fold: 3, GRADIENT BOOSTING Accuracy: 0.9583333333333334\n",
      "Fold: 4, GRADIENT BOOSTING Accuracy: 0.9583333333333334\n",
      "Fold: 5, GRADIENT BOOSTING Accuracy: 0.875\n",
      "None\n",
      "Fold: 1, RANDOM FOREST Accuracy: 0.875\n",
      "Fold: 2, RANDOM FOREST Accuracy: 0.9166666666666666\n",
      "Fold: 3, RANDOM FOREST Accuracy: 0.9583333333333334\n",
      "Fold: 4, RANDOM FOREST Accuracy: 0.9583333333333334\n",
      "Fold: 5, RANDOM FOREST Accuracy: 0.8333333333333334\n",
      "None\n",
      "Fold: 1, ADA BOOST Accuracy: 0.875\n",
      "Fold: 2, ADA BOOST Accuracy: 0.875\n",
      "Fold: 3, ADA BOOST Accuracy: 0.9166666666666666\n",
      "Fold: 4, ADA BOOST Accuracy: 1.0\n",
      "Fold: 5, ADA BOOST Accuracy: 0.875\n",
      "None\n"
     ]
    }
   ],
   "source": [
    "print(cross_k_fold(X_train, y_train,pipe_lr, 'Lr'))\n",
    "print(cross_k_fold(X_train, y_train,pipe_svc, 'svc'))\n",
    "print(cross_k_fold(X_train, y_train,pipe_knn, 'knn'))\n",
    "print(cross_k_fold(X_train, y_train,pipe_dt, 'Decision Tree'))\n",
    "print(cross_k_fold(X_train, y_train,pipe_gb, 'Gradient Boosting'))\n",
    "print(cross_k_fold(X_train, y_train,pipe_rf, 'Random Forest'))\n",
    "print(cross_k_fold(X_train, y_train,pipe_ada, 'Ada Boost'))"
   ]
  },
  {
   "cell_type": "code",
   "execution_count": 71,
   "metadata": {},
   "outputs": [],
   "source": [
    "from Python.cross_val_score import cross_val_score"
   ]
  },
  {
   "cell_type": "code",
   "execution_count": 72,
   "metadata": {},
   "outputs": [
    {
     "name": "stdout",
     "output_type": "stream",
     "text": [
      "CV Accuracy: 0.9: +/- 0.06236095644623234\n"
     ]
    }
   ],
   "source": [
    "cross_val_score(pipe_lr, X_train, y_train,cv =10)"
   ]
  },
  {
   "cell_type": "code",
   "execution_count": 73,
   "metadata": {},
   "outputs": [
    {
     "name": "stdout",
     "output_type": "stream",
     "text": [
      "CV Accuracy: 0.9083333333333332: +/- 0.05833333333333332\n"
     ]
    }
   ],
   "source": [
    "cross_val_score(pipe_knn, X_train, y_train, cv=10)"
   ]
  },
  {
   "cell_type": "code",
   "execution_count": 74,
   "metadata": {},
   "outputs": [
    {
     "name": "stdout",
     "output_type": "stream",
     "text": [
      "CV Accuracy: 0.9083333333333332: +/- 0.06922186552431728\n"
     ]
    }
   ],
   "source": [
    "cross_val_score(pipe_svc, X_train, y_train, cv=10)"
   ]
  },
  {
   "cell_type": "code",
   "execution_count": 75,
   "metadata": {},
   "outputs": [
    {
     "name": "stdout",
     "output_type": "stream",
     "text": [
      "CV Accuracy: 0.8666666666666666: +/- 0.1130388330520878\n"
     ]
    }
   ],
   "source": [
    "cross_val_score(pipe_ada, X_train, y_train, cv=10)"
   ]
  },
  {
   "cell_type": "code",
   "execution_count": 76,
   "metadata": {},
   "outputs": [
    {
     "name": "stdout",
     "output_type": "stream",
     "text": [
      "CV Accuracy: 0.9249999999999998: +/- 0.05833333333333333\n"
     ]
    }
   ],
   "source": [
    "cross_val_score(pipe_gb, X_train, y_train, cv=10)"
   ]
  },
  {
   "cell_type": "code",
   "execution_count": 77,
   "metadata": {},
   "outputs": [
    {
     "name": "stdout",
     "output_type": "stream",
     "text": [
      "CV Accuracy: 0.9083333333333334: +/- 0.06922186552431728\n"
     ]
    }
   ],
   "source": [
    "cross_val_score(pipe_rf, X_train, y_train, cv=10)"
   ]
  },
  {
   "cell_type": "code",
   "execution_count": 78,
   "metadata": {},
   "outputs": [
    {
     "name": "stdout",
     "output_type": "stream",
     "text": [
      "CV Accuracy: 0.9166666666666666: +/- 0.06454972243679027\n"
     ]
    }
   ],
   "source": [
    "cross_val_score(pipe_dt, X_train, y_train, cv=10)"
   ]
  },
  {
   "cell_type": "code",
   "execution_count": 102,
   "metadata": {},
   "outputs": [],
   "source": [
    "from Python.learning_curve import learning_curve"
   ]
  },
  {
   "cell_type": "code",
   "execution_count": 103,
   "metadata": {},
   "outputs": [
    {
     "name": "stdout",
     "output_type": "stream",
     "text": [
      "train_mean: [0.9        0.87619048 0.934375   0.91395349 0.88518519 0.8953125\n",
      " 0.89066667 0.90465116 0.9185567  0.91944444]\n",
      " train_std: [1.11022302e-16 3.80952381e-02 1.68286400e-02 2.09302326e-02\n",
      " 1.38579903e-02 1.22035151e-02 9.97775303e-03 8.70152881e-03\n",
      " 1.34020619e-02 8.33333333e-03]\n",
      "test_mean: [0.81666667 0.89166667 0.89166667 0.88333333 0.89166667 0.89166667\n",
      " 0.88333333 0.89166667 0.89166667 0.9       ]\n",
      "test_std: [0.05       0.06508541 0.06508541 0.05527708 0.075      0.075\n",
      " 0.07637626 0.075      0.075      0.06236096]\n"
     ]
    }
   ],
   "source": [
    "learning_curve(pipe_lr, X_train, y_train, 'Lr', cv = 10)"
   ]
  },
  {
   "cell_type": "code",
   "execution_count": 106,
   "metadata": {},
   "outputs": [],
   "source": [
    "from Python.lc import learning_curve"
   ]
  },
  {
   "cell_type": "code",
   "execution_count": 107,
   "metadata": {},
   "outputs": [
    {
     "name": "stdout",
     "output_type": "stream",
     "text": [
      "\tLR\n",
      "train_mean: \n",
      "[0.9        0.87619048 0.934375   0.91395349 0.88518519 0.8953125\n",
      " 0.89066667 0.90465116 0.9185567  0.91944444]\n",
      "\n",
      " train_std: \n",
      "[1.11022302e-16 3.80952381e-02 1.68286400e-02 2.09302326e-02\n",
      " 1.38579903e-02 1.22035151e-02 9.97775303e-03 8.70152881e-03\n",
      " 1.34020619e-02 8.33333333e-03]\n",
      "\n",
      "test_mean: \n",
      "[0.81666667 0.89166667 0.89166667 0.88333333 0.89166667 0.89166667\n",
      " 0.88333333 0.89166667 0.89166667 0.9       ]\n",
      "\n",
      "test_std: \n",
      "[0.05       0.06508541 0.06508541 0.05527708 0.075      0.075\n",
      " 0.07637626 0.075      0.075      0.06236096]\n"
     ]
    },
    {
     "data": {
      "text/plain": [
       "(array([0.9       , 0.87619048, 0.934375  , 0.91395349, 0.88518519,\n",
       "        0.8953125 , 0.89066667, 0.90465116, 0.9185567 , 0.91944444]),\n",
       " array([1.11022302e-16, 3.80952381e-02, 1.68286400e-02, 2.09302326e-02,\n",
       "        1.38579903e-02, 1.22035151e-02, 9.97775303e-03, 8.70152881e-03,\n",
       "        1.34020619e-02, 8.33333333e-03]),\n",
       " array([0.81666667, 0.89166667, 0.89166667, 0.88333333, 0.89166667,\n",
       "        0.89166667, 0.88333333, 0.89166667, 0.89166667, 0.9       ]),\n",
       " array([1.11022302e-16, 3.80952381e-02, 1.68286400e-02, 2.09302326e-02,\n",
       "        1.38579903e-02, 1.22035151e-02, 9.97775303e-03, 8.70152881e-03,\n",
       "        1.34020619e-02, 8.33333333e-03]))"
      ]
     },
     "execution_count": 107,
     "metadata": {},
     "output_type": "execute_result"
    }
   ],
   "source": [
    "learning_curve(pipe_lr, X_train, y_train, 'Lr', cv = 10)"
   ]
  },
  {
   "cell_type": "code",
   "execution_count": 108,
   "metadata": {},
   "outputs": [],
   "source": [
    "from Python.plotting import learning_curve"
   ]
  },
  {
   "cell_type": "code",
   "execution_count": 109,
   "metadata": {},
   "outputs": [
    {
     "ename": "TypeError",
     "evalue": "learning_curve() missing 1 required positional argument: 'test_std'",
     "output_type": "error",
     "traceback": [
      "\u001b[1;31m---------------------------------------------------------------------------\u001b[0m",
      "\u001b[1;31mTypeError\u001b[0m                                 Traceback (most recent call last)",
      "\u001b[1;32m<ipython-input-109-29a186d0982a>\u001b[0m in \u001b[0;36m<module>\u001b[1;34m\u001b[0m\n\u001b[0;32m      5\u001b[0m         \u001b[1;36m0.89166667\u001b[0m\u001b[1;33m,\u001b[0m \u001b[1;36m0.88333333\u001b[0m\u001b[1;33m,\u001b[0m \u001b[1;36m0.89166667\u001b[0m\u001b[1;33m,\u001b[0m \u001b[1;36m0.89166667\u001b[0m\u001b[1;33m,\u001b[0m \u001b[1;36m0.9\u001b[0m       \u001b[1;33m]\u001b[0m\u001b[1;33m,\u001b[0m\u001b[1;33m[\u001b[0m\u001b[1;36m1.11022302e-16\u001b[0m\u001b[1;33m,\u001b[0m \u001b[1;36m3.80952381e-02\u001b[0m\u001b[1;33m,\u001b[0m \u001b[1;36m1.68286400e-02\u001b[0m\u001b[1;33m,\u001b[0m \u001b[1;36m2.09302326e-02\u001b[0m\u001b[1;33m,\u001b[0m\u001b[1;33m\u001b[0m\u001b[1;33m\u001b[0m\u001b[0m\n\u001b[0;32m      6\u001b[0m         \u001b[1;36m1.38579903e-02\u001b[0m\u001b[1;33m,\u001b[0m \u001b[1;36m1.22035151e-02\u001b[0m\u001b[1;33m,\u001b[0m \u001b[1;36m9.97775303e-03\u001b[0m\u001b[1;33m,\u001b[0m \u001b[1;36m8.70152881e-03\u001b[0m\u001b[1;33m,\u001b[0m\u001b[1;33m\u001b[0m\u001b[1;33m\u001b[0m\u001b[0m\n\u001b[1;32m----> 7\u001b[1;33m         1.34020619e-02, 8.33333333e-03] )\n\u001b[0m",
      "\u001b[1;31mTypeError\u001b[0m: learning_curve() missing 1 required positional argument: 'test_std'"
     ]
    }
   ],
   "source": [
    "learning_curve([0.9       , 0.87619048, 0.934375  , 0.91395349, 0.88518519,\n",
    "        0.8953125 , 0.89066667, 0.90465116, 0.9185567 , 0.91944444],[1.11022302e-16, 3.80952381e-02, 1.68286400e-02, 2.09302326e-02,\n",
    "        1.38579903e-02, 1.22035151e-02, 9.97775303e-03, 8.70152881e-03,\n",
    "        1.34020619e-02, 8.33333333e-03],[0.81666667, 0.89166667, 0.89166667, 0.88333333, 0.89166667,\n",
    "        0.89166667, 0.88333333, 0.89166667, 0.89166667, 0.9       ],[1.11022302e-16, 3.80952381e-02, 1.68286400e-02, 2.09302326e-02,\n",
    "        1.38579903e-02, 1.22035151e-02, 9.97775303e-03, 8.70152881e-03,\n",
    "        1.34020619e-02, 8.33333333e-03] )"
   ]
  },
  {
   "cell_type": "code",
   "execution_count": 110,
   "metadata": {},
   "outputs": [],
   "source": [
    "from Python.lcp import learning_curve"
   ]
  },
  {
   "cell_type": "code",
   "execution_count": 111,
   "metadata": {},
   "outputs": [
    {
     "name": "stdout",
     "output_type": "stream",
     "text": [
      "\tLR\n",
      "train_mean: \n",
      "[0.9        0.87619048 0.934375   0.91395349 0.88518519 0.8953125\n",
      " 0.89066667 0.90465116 0.9185567  0.91944444]\n",
      "\n",
      " train_std: \n",
      "[1.11022302e-16 3.80952381e-02 1.68286400e-02 2.09302326e-02\n",
      " 1.38579903e-02 1.22035151e-02 9.97775303e-03 8.70152881e-03\n",
      " 1.34020619e-02 8.33333333e-03]\n",
      "\n",
      "test_mean: \n",
      "[0.81666667 0.89166667 0.89166667 0.88333333 0.89166667 0.89166667\n",
      " 0.88333333 0.89166667 0.89166667 0.9       ]\n",
      "\n",
      "test_std: \n",
      "[0.05       0.06508541 0.06508541 0.05527708 0.075      0.075\n",
      " 0.07637626 0.075      0.075      0.06236096]\n"
     ]
    },
    {
     "data": {
      "text/plain": [
       "(array([0.9       , 0.87619048, 0.934375  , 0.91395349, 0.88518519,\n",
       "        0.8953125 , 0.89066667, 0.90465116, 0.9185567 , 0.91944444]),\n",
       " array([1.11022302e-16, 3.80952381e-02, 1.68286400e-02, 2.09302326e-02,\n",
       "        1.38579903e-02, 1.22035151e-02, 9.97775303e-03, 8.70152881e-03,\n",
       "        1.34020619e-02, 8.33333333e-03]),\n",
       " array([0.81666667, 0.89166667, 0.89166667, 0.88333333, 0.89166667,\n",
       "        0.89166667, 0.88333333, 0.89166667, 0.89166667, 0.9       ]),\n",
       " array([0.05      , 0.06508541, 0.06508541, 0.05527708, 0.075     ,\n",
       "        0.075     , 0.07637626, 0.075     , 0.075     , 0.06236096]),\n",
       " array([ 10,  21,  32,  43,  54,  64,  75,  86,  97, 108]))"
      ]
     },
     "execution_count": 111,
     "metadata": {},
     "output_type": "execute_result"
    }
   ],
   "source": [
    "learning_curve(pipe_lr, X_train, y_train, 'Lr', cv = 10)"
   ]
  },
  {
   "cell_type": "code",
   "execution_count": 113,
   "metadata": {},
   "outputs": [],
   "source": [
    "from Python.lcpp import learning_curve"
   ]
  },
  {
   "cell_type": "code",
   "execution_count": 114,
   "metadata": {},
   "outputs": [
    {
     "name": "stdout",
     "output_type": "stream",
     "text": [
      "\tLR\n",
      "train_mean: \n",
      "[0.9        0.87619048 0.934375   0.91395349 0.88518519 0.8953125\n",
      " 0.89066667 0.90465116 0.9185567  0.91944444]\n",
      "\n",
      " train_std: \n",
      "[1.11022302e-16 3.80952381e-02 1.68286400e-02 2.09302326e-02\n",
      " 1.38579903e-02 1.22035151e-02 9.97775303e-03 8.70152881e-03\n",
      " 1.34020619e-02 8.33333333e-03]\n",
      "\n",
      "test_mean: \n",
      "[0.81666667 0.89166667 0.89166667 0.88333333 0.89166667 0.89166667\n",
      " 0.88333333 0.89166667 0.89166667 0.9       ]\n",
      "\n",
      "test_std: \n",
      "[0.05       0.06508541 0.06508541 0.05527708 0.075      0.075\n",
      " 0.07637626 0.075      0.075      0.06236096]\n"
     ]
    },
    {
     "data": {
      "text/plain": [
       "(array([0.9       , 0.87619048, 0.934375  , 0.91395349, 0.88518519,\n",
       "        0.8953125 , 0.89066667, 0.90465116, 0.9185567 , 0.91944444]),\n",
       " array([1.11022302e-16, 3.80952381e-02, 1.68286400e-02, 2.09302326e-02,\n",
       "        1.38579903e-02, 1.22035151e-02, 9.97775303e-03, 8.70152881e-03,\n",
       "        1.34020619e-02, 8.33333333e-03]),\n",
       " array([0.81666667, 0.89166667, 0.89166667, 0.88333333, 0.89166667,\n",
       "        0.89166667, 0.88333333, 0.89166667, 0.89166667, 0.9       ]),\n",
       " array([0.05      , 0.06508541, 0.06508541, 0.05527708, 0.075     ,\n",
       "        0.075     , 0.07637626, 0.075     , 0.075     , 0.06236096]),\n",
       " array([ 10,  21,  32,  43,  54,  64,  75,  86,  97, 108]))"
      ]
     },
     "execution_count": 114,
     "metadata": {},
     "output_type": "execute_result"
    }
   ],
   "source": [
    "learning_curve(pipe_lr, X_train, y_train, 'Lr', cv = 10)"
   ]
  },
  {
   "cell_type": "code",
   "execution_count": null,
   "metadata": {},
   "outputs": [],
   "source": []
  }
 ],
 "metadata": {
  "kernelspec": {
   "display_name": "Python 3",
   "language": "python",
   "name": "python3"
  },
  "language_info": {
   "codemirror_mode": {
    "name": "ipython",
    "version": 3
   },
   "file_extension": ".py",
   "mimetype": "text/x-python",
   "name": "python",
   "nbconvert_exporter": "python",
   "pygments_lexer": "ipython3",
   "version": "3.7.6"
  }
 },
 "nbformat": 4,
 "nbformat_minor": 4
}
