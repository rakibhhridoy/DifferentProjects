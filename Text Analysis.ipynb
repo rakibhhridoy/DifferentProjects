{
 "cells": [
  {
   "cell_type": "code",
   "execution_count": 1,
   "metadata": {},
   "outputs": [],
   "source": [
    "import numpy as np\n",
    "import pandas as pd"
   ]
  },
  {
   "cell_type": "code",
   "execution_count": 16,
   "metadata": {},
   "outputs": [],
   "source": [
    "dataset = pd.read_csv('DataSets/nlp/Shinzo Abe Tweet 20171024 - Tweet.csv')"
   ]
  },
  {
   "cell_type": "code",
   "execution_count": 17,
   "metadata": {},
   "outputs": [
    {
     "data": {
      "text/html": [
       "<div>\n",
       "<style scoped>\n",
       "    .dataframe tbody tr th:only-of-type {\n",
       "        vertical-align: middle;\n",
       "    }\n",
       "\n",
       "    .dataframe tbody tr th {\n",
       "        vertical-align: top;\n",
       "    }\n",
       "\n",
       "    .dataframe thead th {\n",
       "        text-align: right;\n",
       "    }\n",
       "</style>\n",
       "<table border=\"1\" class=\"dataframe\">\n",
       "  <thead>\n",
       "    <tr style=\"text-align: right;\">\n",
       "      <th></th>\n",
       "      <th>url</th>\n",
       "      <th>Full Name Show</th>\n",
       "      <th>Username Dir</th>\n",
       "      <th>Tweet Nav</th>\n",
       "      <th>Tweet Nav_link</th>\n",
       "      <th>Tweet Text Size Block</th>\n",
       "      <th>English Translation</th>\n",
       "      <th>Tweet Text Size Link</th>\n",
       "      <th>Tweet Text Size Link_link</th>\n",
       "      <th>Profile Tweet 1</th>\n",
       "      <th>Profile Tweet 2</th>\n",
       "      <th>Profile Tweet 3</th>\n",
       "      <th>Reply</th>\n",
       "      <th>Re Tweet</th>\n",
       "      <th>Like</th>\n",
       "    </tr>\n",
       "  </thead>\n",
       "  <tbody>\n",
       "    <tr>\n",
       "      <th>0</th>\n",
       "      <td>https://twitter.com/AbeShinzo</td>\n",
       "      <td>安倍晋三</td>\n",
       "      <td>AbeShinzo</td>\n",
       "      <td>Oct 21</td>\n",
       "      <td>https://twitter.com/AbeShinzo/status/921745765...</td>\n",
       "      <td>選挙期間中、自民党の候補者たちは全国各地で我々の経済政策を、安全保障を、そして日本の将来を担...</td>\n",
       "      <td>During the election period, candidates who of ...</td>\n",
       "      <td>https://twitter.com/jimin_koho/status/92174405...</td>\n",
       "      <td>https://t.co/HVjFn3QJp5</td>\n",
       "      <td>1,133 replies</td>\n",
       "      <td>5,752 retweets</td>\n",
       "      <td>14,514 likes</td>\n",
       "      <td>1.1K</td>\n",
       "      <td>5.8K</td>\n",
       "      <td>15K</td>\n",
       "    </tr>\n",
       "    <tr>\n",
       "      <th>1</th>\n",
       "      <td>https://twitter.com/AbeShinzo</td>\n",
       "      <td>安倍晋三</td>\n",
       "      <td>AbeShinzo</td>\n",
       "      <td>Oct 20</td>\n",
       "      <td>https://twitter.com/AbeShinzo/status/921350545...</td>\n",
       "      <td>外国人旅行者数はこの５年間で３倍になりました。自民党は高次元での観光資源施策に取り組み我が国...</td>\n",
       "      <td>Foreign visitors number has tripled over the p...</td>\n",
       "      <td>pic.twitter.com/EMNDcADrYB</td>\n",
       "      <td>https://t.co/EMNDcADrYB</td>\n",
       "      <td>606 replies</td>\n",
       "      <td>3,712 retweets</td>\n",
       "      <td>8,946 likes</td>\n",
       "      <td>606</td>\n",
       "      <td>3.7K</td>\n",
       "      <td>8.9K</td>\n",
       "    </tr>\n",
       "    <tr>\n",
       "      <th>2</th>\n",
       "      <td>https://twitter.com/AbeShinzo</td>\n",
       "      <td>安倍晋三</td>\n",
       "      <td>AbeShinzo</td>\n",
       "      <td>Oct 20</td>\n",
       "      <td>https://twitter.com/AbeShinzo/status/921322049...</td>\n",
       "      <td>明日１０月２１日(土) 安倍晋三総裁は岐阜県、愛知県、東京都に参ります。 詳細は是非、自民党...</td>\n",
       "      <td>Tomorrow, October 21 (Saturday) Susumusan Abe ...</td>\n",
       "      <td>https://special.jimin.jp/</td>\n",
       "      <td>https://t.co/vKXI8z5Mjr</td>\n",
       "      <td>358 replies</td>\n",
       "      <td>2,213 retweets</td>\n",
       "      <td>4,922 likes</td>\n",
       "      <td>358</td>\n",
       "      <td>2.2K</td>\n",
       "      <td>4.9K</td>\n",
       "    </tr>\n",
       "    <tr>\n",
       "      <th>3</th>\n",
       "      <td>https://twitter.com/AbeShinzo</td>\n",
       "      <td>安倍晋三</td>\n",
       "      <td>AbeShinzo</td>\n",
       "      <td>Oct 19</td>\n",
       "      <td>https://twitter.com/AbeShinzo/status/920998741...</td>\n",
       "      <td>我々がスタートした返さなくても良い「給付型奨学金」や「授業料免除」といった制度を拡充し、真に...</td>\n",
       "      <td>It has expanded the system, such as it is not ...</td>\n",
       "      <td>pic.twitter.com/ZgAYDhlzDD</td>\n",
       "      <td>https://t.co/ZgAYDhlzDD</td>\n",
       "      <td>456 replies</td>\n",
       "      <td>3,081 retweets</td>\n",
       "      <td>6,576 likes</td>\n",
       "      <td>456</td>\n",
       "      <td>3.1K</td>\n",
       "      <td>6.6K</td>\n",
       "    </tr>\n",
       "    <tr>\n",
       "      <th>4</th>\n",
       "      <td>https://twitter.com/AbeShinzo</td>\n",
       "      <td>安倍晋三</td>\n",
       "      <td>AbeShinzo</td>\n",
       "      <td>Oct 19</td>\n",
       "      <td>https://twitter.com/AbeShinzo/status/920991367...</td>\n",
       "      <td>明日１０月２０日(金) 安倍晋三総裁は神奈川県、東京都に参ります。 詳細は是非、自民党の特設...</td>\n",
       "      <td>Tomorrow, October 20 (Friday) Susumusan Abe Pr...</td>\n",
       "      <td>https://special.jimin.jp/</td>\n",
       "      <td>https://t.co/vKXI8z5Mjr</td>\n",
       "      <td>271 replies</td>\n",
       "      <td>2,291 retweets</td>\n",
       "      <td>5,610 likes</td>\n",
       "      <td>271</td>\n",
       "      <td>2.3K</td>\n",
       "      <td>5.6K</td>\n",
       "    </tr>\n",
       "  </tbody>\n",
       "</table>\n",
       "</div>"
      ],
      "text/plain": [
       "                             url Full Name Show Username Dir Tweet Nav  \\\n",
       "0  https://twitter.com/AbeShinzo           安倍晋三    AbeShinzo    Oct 21   \n",
       "1  https://twitter.com/AbeShinzo           安倍晋三    AbeShinzo    Oct 20   \n",
       "2  https://twitter.com/AbeShinzo           安倍晋三    AbeShinzo    Oct 20   \n",
       "3  https://twitter.com/AbeShinzo           安倍晋三    AbeShinzo    Oct 19   \n",
       "4  https://twitter.com/AbeShinzo           安倍晋三    AbeShinzo    Oct 19   \n",
       "\n",
       "                                      Tweet Nav_link  \\\n",
       "0  https://twitter.com/AbeShinzo/status/921745765...   \n",
       "1  https://twitter.com/AbeShinzo/status/921350545...   \n",
       "2  https://twitter.com/AbeShinzo/status/921322049...   \n",
       "3  https://twitter.com/AbeShinzo/status/920998741...   \n",
       "4  https://twitter.com/AbeShinzo/status/920991367...   \n",
       "\n",
       "                               Tweet Text Size Block  \\\n",
       "0  選挙期間中、自民党の候補者たちは全国各地で我々の経済政策を、安全保障を、そして日本の将来を担...   \n",
       "1  外国人旅行者数はこの５年間で３倍になりました。自民党は高次元での観光資源施策に取り組み我が国...   \n",
       "2  明日１０月２１日(土) 安倍晋三総裁は岐阜県、愛知県、東京都に参ります。 詳細は是非、自民党...   \n",
       "3  我々がスタートした返さなくても良い「給付型奨学金」や「授業料免除」といった制度を拡充し、真に...   \n",
       "4  明日１０月２０日(金) 安倍晋三総裁は神奈川県、東京都に参ります。 詳細は是非、自民党の特設...   \n",
       "\n",
       "                                 English Translation  \\\n",
       "0  During the election period, candidates who of ...   \n",
       "1  Foreign visitors number has tripled over the p...   \n",
       "2  Tomorrow, October 21 (Saturday) Susumusan Abe ...   \n",
       "3  It has expanded the system, such as it is not ...   \n",
       "4  Tomorrow, October 20 (Friday) Susumusan Abe Pr...   \n",
       "\n",
       "                                Tweet Text Size Link  \\\n",
       "0  https://twitter.com/jimin_koho/status/92174405...   \n",
       "1                         pic.twitter.com/EMNDcADrYB   \n",
       "2                          https://special.jimin.jp/   \n",
       "3                         pic.twitter.com/ZgAYDhlzDD   \n",
       "4                          https://special.jimin.jp/   \n",
       "\n",
       "  Tweet Text Size Link_link Profile Tweet 1 Profile Tweet 2 Profile Tweet 3  \\\n",
       "0   https://t.co/HVjFn3QJp5   1,133 replies  5,752 retweets    14,514 likes   \n",
       "1   https://t.co/EMNDcADrYB     606 replies  3,712 retweets     8,946 likes   \n",
       "2   https://t.co/vKXI8z5Mjr     358 replies  2,213 retweets     4,922 likes   \n",
       "3   https://t.co/ZgAYDhlzDD     456 replies  3,081 retweets     6,576 likes   \n",
       "4   https://t.co/vKXI8z5Mjr     271 replies  2,291 retweets     5,610 likes   \n",
       "\n",
       "  Reply Re Tweet  Like  \n",
       "0  1.1K     5.8K   15K  \n",
       "1   606     3.7K  8.9K  \n",
       "2   358     2.2K  4.9K  \n",
       "3   456     3.1K  6.6K  \n",
       "4   271     2.3K  5.6K  "
      ]
     },
     "execution_count": 17,
     "metadata": {},
     "output_type": "execute_result"
    }
   ],
   "source": [
    "dataset.head()"
   ]
  },
  {
   "cell_type": "code",
   "execution_count": 18,
   "metadata": {},
   "outputs": [
    {
     "data": {
      "text/plain": [
       "(79, 15)"
      ]
     },
     "execution_count": 18,
     "metadata": {},
     "output_type": "execute_result"
    }
   ],
   "source": [
    "dataset.shape"
   ]
  },
  {
   "cell_type": "code",
   "execution_count": 19,
   "metadata": {},
   "outputs": [
    {
     "data": {
      "text/plain": [
       "Index(['url', 'Full Name Show', 'Username Dir', 'Tweet Nav', 'Tweet Nav_link',\n",
       "       'Tweet Text Size Block', 'English Translation', 'Tweet Text Size Link',\n",
       "       'Tweet Text Size Link_link', 'Profile Tweet 1', 'Profile Tweet 2',\n",
       "       'Profile Tweet 3', 'Reply', 'Re Tweet', 'Like'],\n",
       "      dtype='object')"
      ]
     },
     "execution_count": 19,
     "metadata": {},
     "output_type": "execute_result"
    }
   ],
   "source": [
    "dataset.columns"
   ]
  },
  {
   "cell_type": "code",
   "execution_count": 26,
   "metadata": {},
   "outputs": [],
   "source": [
    "dataset = dataset.drop(columns = [ 'Tweet Text Size Link','Tweet Text Size Link_link'])"
   ]
  },
  {
   "cell_type": "code",
   "execution_count": 27,
   "metadata": {},
   "outputs": [
    {
     "data": {
      "text/html": [
       "<div>\n",
       "<style scoped>\n",
       "    .dataframe tbody tr th:only-of-type {\n",
       "        vertical-align: middle;\n",
       "    }\n",
       "\n",
       "    .dataframe tbody tr th {\n",
       "        vertical-align: top;\n",
       "    }\n",
       "\n",
       "    .dataframe thead th {\n",
       "        text-align: right;\n",
       "    }\n",
       "</style>\n",
       "<table border=\"1\" class=\"dataframe\">\n",
       "  <thead>\n",
       "    <tr style=\"text-align: right;\">\n",
       "      <th></th>\n",
       "      <th>Tweet Nav</th>\n",
       "      <th>Tweet Text Size Block</th>\n",
       "      <th>English Translation</th>\n",
       "      <th>Profile Tweet 1</th>\n",
       "      <th>Profile Tweet 2</th>\n",
       "      <th>Profile Tweet 3</th>\n",
       "      <th>Reply</th>\n",
       "      <th>Re Tweet</th>\n",
       "      <th>Like</th>\n",
       "    </tr>\n",
       "  </thead>\n",
       "  <tbody>\n",
       "    <tr>\n",
       "      <th>0</th>\n",
       "      <td>Oct 21</td>\n",
       "      <td>選挙期間中、自民党の候補者たちは全国各地で我々の経済政策を、安全保障を、そして日本の将来を担...</td>\n",
       "      <td>During the election period, candidates who of ...</td>\n",
       "      <td>1,133 replies</td>\n",
       "      <td>5,752 retweets</td>\n",
       "      <td>14,514 likes</td>\n",
       "      <td>1.1K</td>\n",
       "      <td>5.8K</td>\n",
       "      <td>15K</td>\n",
       "    </tr>\n",
       "    <tr>\n",
       "      <th>1</th>\n",
       "      <td>Oct 20</td>\n",
       "      <td>外国人旅行者数はこの５年間で３倍になりました。自民党は高次元での観光資源施策に取り組み我が国...</td>\n",
       "      <td>Foreign visitors number has tripled over the p...</td>\n",
       "      <td>606 replies</td>\n",
       "      <td>3,712 retweets</td>\n",
       "      <td>8,946 likes</td>\n",
       "      <td>606</td>\n",
       "      <td>3.7K</td>\n",
       "      <td>8.9K</td>\n",
       "    </tr>\n",
       "    <tr>\n",
       "      <th>2</th>\n",
       "      <td>Oct 20</td>\n",
       "      <td>明日１０月２１日(土) 安倍晋三総裁は岐阜県、愛知県、東京都に参ります。 詳細は是非、自民党...</td>\n",
       "      <td>Tomorrow, October 21 (Saturday) Susumusan Abe ...</td>\n",
       "      <td>358 replies</td>\n",
       "      <td>2,213 retweets</td>\n",
       "      <td>4,922 likes</td>\n",
       "      <td>358</td>\n",
       "      <td>2.2K</td>\n",
       "      <td>4.9K</td>\n",
       "    </tr>\n",
       "    <tr>\n",
       "      <th>3</th>\n",
       "      <td>Oct 19</td>\n",
       "      <td>我々がスタートした返さなくても良い「給付型奨学金」や「授業料免除」といった制度を拡充し、真に...</td>\n",
       "      <td>It has expanded the system, such as it is not ...</td>\n",
       "      <td>456 replies</td>\n",
       "      <td>3,081 retweets</td>\n",
       "      <td>6,576 likes</td>\n",
       "      <td>456</td>\n",
       "      <td>3.1K</td>\n",
       "      <td>6.6K</td>\n",
       "    </tr>\n",
       "    <tr>\n",
       "      <th>4</th>\n",
       "      <td>Oct 19</td>\n",
       "      <td>明日１０月２０日(金) 安倍晋三総裁は神奈川県、東京都に参ります。 詳細は是非、自民党の特設...</td>\n",
       "      <td>Tomorrow, October 20 (Friday) Susumusan Abe Pr...</td>\n",
       "      <td>271 replies</td>\n",
       "      <td>2,291 retweets</td>\n",
       "      <td>5,610 likes</td>\n",
       "      <td>271</td>\n",
       "      <td>2.3K</td>\n",
       "      <td>5.6K</td>\n",
       "    </tr>\n",
       "  </tbody>\n",
       "</table>\n",
       "</div>"
      ],
      "text/plain": [
       "  Tweet Nav                              Tweet Text Size Block  \\\n",
       "0    Oct 21  選挙期間中、自民党の候補者たちは全国各地で我々の経済政策を、安全保障を、そして日本の将来を担...   \n",
       "1    Oct 20  外国人旅行者数はこの５年間で３倍になりました。自民党は高次元での観光資源施策に取り組み我が国...   \n",
       "2    Oct 20  明日１０月２１日(土) 安倍晋三総裁は岐阜県、愛知県、東京都に参ります。 詳細は是非、自民党...   \n",
       "3    Oct 19  我々がスタートした返さなくても良い「給付型奨学金」や「授業料免除」といった制度を拡充し、真に...   \n",
       "4    Oct 19  明日１０月２０日(金) 安倍晋三総裁は神奈川県、東京都に参ります。 詳細は是非、自民党の特設...   \n",
       "\n",
       "                                 English Translation Profile Tweet 1  \\\n",
       "0  During the election period, candidates who of ...   1,133 replies   \n",
       "1  Foreign visitors number has tripled over the p...     606 replies   \n",
       "2  Tomorrow, October 21 (Saturday) Susumusan Abe ...     358 replies   \n",
       "3  It has expanded the system, such as it is not ...     456 replies   \n",
       "4  Tomorrow, October 20 (Friday) Susumusan Abe Pr...     271 replies   \n",
       "\n",
       "  Profile Tweet 2 Profile Tweet 3 Reply Re Tweet  Like  \n",
       "0  5,752 retweets    14,514 likes  1.1K     5.8K   15K  \n",
       "1  3,712 retweets     8,946 likes   606     3.7K  8.9K  \n",
       "2  2,213 retweets     4,922 likes   358     2.2K  4.9K  \n",
       "3  3,081 retweets     6,576 likes   456     3.1K  6.6K  \n",
       "4  2,291 retweets     5,610 likes   271     2.3K  5.6K  "
      ]
     },
     "execution_count": 27,
     "metadata": {},
     "output_type": "execute_result"
    }
   ],
   "source": [
    "dataset.head()"
   ]
  },
  {
   "cell_type": "code",
   "execution_count": 28,
   "metadata": {},
   "outputs": [],
   "source": [
    "dataset.to_csv('Shinzo_abe_tweets_processed.csv')"
   ]
  },
  {
   "cell_type": "code",
   "execution_count": 29,
   "metadata": {},
   "outputs": [
    {
     "data": {
      "text/html": [
       "<div>\n",
       "<style scoped>\n",
       "    .dataframe tbody tr th:only-of-type {\n",
       "        vertical-align: middle;\n",
       "    }\n",
       "\n",
       "    .dataframe tbody tr th {\n",
       "        vertical-align: top;\n",
       "    }\n",
       "\n",
       "    .dataframe thead th {\n",
       "        text-align: right;\n",
       "    }\n",
       "</style>\n",
       "<table border=\"1\" class=\"dataframe\">\n",
       "  <thead>\n",
       "    <tr style=\"text-align: right;\">\n",
       "      <th></th>\n",
       "      <th>Tweet Nav</th>\n",
       "      <th>Tweet Text Size Block</th>\n",
       "      <th>English Translation</th>\n",
       "      <th>Profile Tweet 1</th>\n",
       "      <th>Profile Tweet 2</th>\n",
       "      <th>Profile Tweet 3</th>\n",
       "      <th>Reply</th>\n",
       "      <th>Re Tweet</th>\n",
       "      <th>Like</th>\n",
       "    </tr>\n",
       "  </thead>\n",
       "  <tbody>\n",
       "    <tr>\n",
       "      <th>0</th>\n",
       "      <td>Oct 21</td>\n",
       "      <td>選挙期間中、自民党の候補者たちは全国各地で我々の経済政策を、安全保障を、そして日本の将来を担...</td>\n",
       "      <td>During the election period, candidates who of ...</td>\n",
       "      <td>1,133 replies</td>\n",
       "      <td>5,752 retweets</td>\n",
       "      <td>14,514 likes</td>\n",
       "      <td>1.1K</td>\n",
       "      <td>5.8K</td>\n",
       "      <td>15K</td>\n",
       "    </tr>\n",
       "    <tr>\n",
       "      <th>1</th>\n",
       "      <td>Oct 20</td>\n",
       "      <td>外国人旅行者数はこの５年間で３倍になりました。自民党は高次元での観光資源施策に取り組み我が国...</td>\n",
       "      <td>Foreign visitors number has tripled over the p...</td>\n",
       "      <td>606 replies</td>\n",
       "      <td>3,712 retweets</td>\n",
       "      <td>8,946 likes</td>\n",
       "      <td>606</td>\n",
       "      <td>3.7K</td>\n",
       "      <td>8.9K</td>\n",
       "    </tr>\n",
       "    <tr>\n",
       "      <th>2</th>\n",
       "      <td>Oct 20</td>\n",
       "      <td>明日１０月２１日(土) 安倍晋三総裁は岐阜県、愛知県、東京都に参ります。 詳細は是非、自民党...</td>\n",
       "      <td>Tomorrow, October 21 (Saturday) Susumusan Abe ...</td>\n",
       "      <td>358 replies</td>\n",
       "      <td>2,213 retweets</td>\n",
       "      <td>4,922 likes</td>\n",
       "      <td>358</td>\n",
       "      <td>2.2K</td>\n",
       "      <td>4.9K</td>\n",
       "    </tr>\n",
       "    <tr>\n",
       "      <th>3</th>\n",
       "      <td>Oct 19</td>\n",
       "      <td>我々がスタートした返さなくても良い「給付型奨学金」や「授業料免除」といった制度を拡充し、真に...</td>\n",
       "      <td>It has expanded the system, such as it is not ...</td>\n",
       "      <td>456 replies</td>\n",
       "      <td>3,081 retweets</td>\n",
       "      <td>6,576 likes</td>\n",
       "      <td>456</td>\n",
       "      <td>3.1K</td>\n",
       "      <td>6.6K</td>\n",
       "    </tr>\n",
       "    <tr>\n",
       "      <th>4</th>\n",
       "      <td>Oct 19</td>\n",
       "      <td>明日１０月２０日(金) 安倍晋三総裁は神奈川県、東京都に参ります。 詳細は是非、自民党の特設...</td>\n",
       "      <td>Tomorrow, October 20 (Friday) Susumusan Abe Pr...</td>\n",
       "      <td>271 replies</td>\n",
       "      <td>2,291 retweets</td>\n",
       "      <td>5,610 likes</td>\n",
       "      <td>271</td>\n",
       "      <td>2.3K</td>\n",
       "      <td>5.6K</td>\n",
       "    </tr>\n",
       "  </tbody>\n",
       "</table>\n",
       "</div>"
      ],
      "text/plain": [
       "  Tweet Nav                              Tweet Text Size Block  \\\n",
       "0    Oct 21  選挙期間中、自民党の候補者たちは全国各地で我々の経済政策を、安全保障を、そして日本の将来を担...   \n",
       "1    Oct 20  外国人旅行者数はこの５年間で３倍になりました。自民党は高次元での観光資源施策に取り組み我が国...   \n",
       "2    Oct 20  明日１０月２１日(土) 安倍晋三総裁は岐阜県、愛知県、東京都に参ります。 詳細は是非、自民党...   \n",
       "3    Oct 19  我々がスタートした返さなくても良い「給付型奨学金」や「授業料免除」といった制度を拡充し、真に...   \n",
       "4    Oct 19  明日１０月２０日(金) 安倍晋三総裁は神奈川県、東京都に参ります。 詳細は是非、自民党の特設...   \n",
       "\n",
       "                                 English Translation Profile Tweet 1  \\\n",
       "0  During the election period, candidates who of ...   1,133 replies   \n",
       "1  Foreign visitors number has tripled over the p...     606 replies   \n",
       "2  Tomorrow, October 21 (Saturday) Susumusan Abe ...     358 replies   \n",
       "3  It has expanded the system, such as it is not ...     456 replies   \n",
       "4  Tomorrow, October 20 (Friday) Susumusan Abe Pr...     271 replies   \n",
       "\n",
       "  Profile Tweet 2 Profile Tweet 3 Reply Re Tweet  Like  \n",
       "0  5,752 retweets    14,514 likes  1.1K     5.8K   15K  \n",
       "1  3,712 retweets     8,946 likes   606     3.7K  8.9K  \n",
       "2  2,213 retweets     4,922 likes   358     2.2K  4.9K  \n",
       "3  3,081 retweets     6,576 likes   456     3.1K  6.6K  \n",
       "4  2,291 retweets     5,610 likes   271     2.3K  5.6K  "
      ]
     },
     "execution_count": 29,
     "metadata": {},
     "output_type": "execute_result"
    }
   ],
   "source": [
    "dataset.head()"
   ]
  },
  {
   "cell_type": "code",
   "execution_count": 30,
   "metadata": {},
   "outputs": [],
   "source": [
    "dataset = dataset.drop(columns = ['Profile Tweet 1', 'Profile Tweet 2', 'Profile Tweet 3', 'Reply', 'Re Tweet', 'Like'])"
   ]
  },
  {
   "cell_type": "code",
   "execution_count": 31,
   "metadata": {},
   "outputs": [
    {
     "data": {
      "text/html": [
       "<div>\n",
       "<style scoped>\n",
       "    .dataframe tbody tr th:only-of-type {\n",
       "        vertical-align: middle;\n",
       "    }\n",
       "\n",
       "    .dataframe tbody tr th {\n",
       "        vertical-align: top;\n",
       "    }\n",
       "\n",
       "    .dataframe thead th {\n",
       "        text-align: right;\n",
       "    }\n",
       "</style>\n",
       "<table border=\"1\" class=\"dataframe\">\n",
       "  <thead>\n",
       "    <tr style=\"text-align: right;\">\n",
       "      <th></th>\n",
       "      <th>Tweet Nav</th>\n",
       "      <th>Tweet Text Size Block</th>\n",
       "      <th>English Translation</th>\n",
       "    </tr>\n",
       "  </thead>\n",
       "  <tbody>\n",
       "    <tr>\n",
       "      <th>0</th>\n",
       "      <td>Oct 21</td>\n",
       "      <td>選挙期間中、自民党の候補者たちは全国各地で我々の経済政策を、安全保障を、そして日本の将来を担...</td>\n",
       "      <td>During the election period, candidates who of ...</td>\n",
       "    </tr>\n",
       "    <tr>\n",
       "      <th>1</th>\n",
       "      <td>Oct 20</td>\n",
       "      <td>外国人旅行者数はこの５年間で３倍になりました。自民党は高次元での観光資源施策に取り組み我が国...</td>\n",
       "      <td>Foreign visitors number has tripled over the p...</td>\n",
       "    </tr>\n",
       "    <tr>\n",
       "      <th>2</th>\n",
       "      <td>Oct 20</td>\n",
       "      <td>明日１０月２１日(土) 安倍晋三総裁は岐阜県、愛知県、東京都に参ります。 詳細は是非、自民党...</td>\n",
       "      <td>Tomorrow, October 21 (Saturday) Susumusan Abe ...</td>\n",
       "    </tr>\n",
       "    <tr>\n",
       "      <th>3</th>\n",
       "      <td>Oct 19</td>\n",
       "      <td>我々がスタートした返さなくても良い「給付型奨学金」や「授業料免除」といった制度を拡充し、真に...</td>\n",
       "      <td>It has expanded the system, such as it is not ...</td>\n",
       "    </tr>\n",
       "    <tr>\n",
       "      <th>4</th>\n",
       "      <td>Oct 19</td>\n",
       "      <td>明日１０月２０日(金) 安倍晋三総裁は神奈川県、東京都に参ります。 詳細は是非、自民党の特設...</td>\n",
       "      <td>Tomorrow, October 20 (Friday) Susumusan Abe Pr...</td>\n",
       "    </tr>\n",
       "  </tbody>\n",
       "</table>\n",
       "</div>"
      ],
      "text/plain": [
       "  Tweet Nav                              Tweet Text Size Block  \\\n",
       "0    Oct 21  選挙期間中、自民党の候補者たちは全国各地で我々の経済政策を、安全保障を、そして日本の将来を担...   \n",
       "1    Oct 20  外国人旅行者数はこの５年間で３倍になりました。自民党は高次元での観光資源施策に取り組み我が国...   \n",
       "2    Oct 20  明日１０月２１日(土) 安倍晋三総裁は岐阜県、愛知県、東京都に参ります。 詳細は是非、自民党...   \n",
       "3    Oct 19  我々がスタートした返さなくても良い「給付型奨学金」や「授業料免除」といった制度を拡充し、真に...   \n",
       "4    Oct 19  明日１０月２０日(金) 安倍晋三総裁は神奈川県、東京都に参ります。 詳細は是非、自民党の特設...   \n",
       "\n",
       "                                 English Translation  \n",
       "0  During the election period, candidates who of ...  \n",
       "1  Foreign visitors number has tripled over the p...  \n",
       "2  Tomorrow, October 21 (Saturday) Susumusan Abe ...  \n",
       "3  It has expanded the system, such as it is not ...  \n",
       "4  Tomorrow, October 20 (Friday) Susumusan Abe Pr...  "
      ]
     },
     "execution_count": 31,
     "metadata": {},
     "output_type": "execute_result"
    }
   ],
   "source": [
    "dataset.head()"
   ]
  },
  {
   "cell_type": "code",
   "execution_count": 32,
   "metadata": {},
   "outputs": [],
   "source": [
    "dataset = dataset.drop(columns= ['Tweet Nav'])"
   ]
  },
  {
   "cell_type": "code",
   "execution_count": 33,
   "metadata": {},
   "outputs": [
    {
     "data": {
      "text/html": [
       "<div>\n",
       "<style scoped>\n",
       "    .dataframe tbody tr th:only-of-type {\n",
       "        vertical-align: middle;\n",
       "    }\n",
       "\n",
       "    .dataframe tbody tr th {\n",
       "        vertical-align: top;\n",
       "    }\n",
       "\n",
       "    .dataframe thead th {\n",
       "        text-align: right;\n",
       "    }\n",
       "</style>\n",
       "<table border=\"1\" class=\"dataframe\">\n",
       "  <thead>\n",
       "    <tr style=\"text-align: right;\">\n",
       "      <th></th>\n",
       "      <th>Tweet Text Size Block</th>\n",
       "      <th>English Translation</th>\n",
       "    </tr>\n",
       "  </thead>\n",
       "  <tbody>\n",
       "    <tr>\n",
       "      <th>0</th>\n",
       "      <td>選挙期間中、自民党の候補者たちは全国各地で我々の経済政策を、安全保障を、そして日本の将来を担...</td>\n",
       "      <td>During the election period, candidates who of ...</td>\n",
       "    </tr>\n",
       "    <tr>\n",
       "      <th>1</th>\n",
       "      <td>外国人旅行者数はこの５年間で３倍になりました。自民党は高次元での観光資源施策に取り組み我が国...</td>\n",
       "      <td>Foreign visitors number has tripled over the p...</td>\n",
       "    </tr>\n",
       "    <tr>\n",
       "      <th>2</th>\n",
       "      <td>明日１０月２１日(土) 安倍晋三総裁は岐阜県、愛知県、東京都に参ります。 詳細は是非、自民党...</td>\n",
       "      <td>Tomorrow, October 21 (Saturday) Susumusan Abe ...</td>\n",
       "    </tr>\n",
       "    <tr>\n",
       "      <th>3</th>\n",
       "      <td>我々がスタートした返さなくても良い「給付型奨学金」や「授業料免除」といった制度を拡充し、真に...</td>\n",
       "      <td>It has expanded the system, such as it is not ...</td>\n",
       "    </tr>\n",
       "    <tr>\n",
       "      <th>4</th>\n",
       "      <td>明日１０月２０日(金) 安倍晋三総裁は神奈川県、東京都に参ります。 詳細は是非、自民党の特設...</td>\n",
       "      <td>Tomorrow, October 20 (Friday) Susumusan Abe Pr...</td>\n",
       "    </tr>\n",
       "    <tr>\n",
       "      <th>...</th>\n",
       "      <td>...</td>\n",
       "      <td>...</td>\n",
       "    </tr>\n",
       "    <tr>\n",
       "      <th>74</th>\n",
       "      <td>起き抜けに久々に公邸の庭に出ると、今年も庭の片隅に沈丁花が咲いていました。最初の出会いは９年...</td>\n",
       "      <td>Upon exiting after a long time the official re...</td>\n",
       "    </tr>\n",
       "    <tr>\n",
       "      <th>75</th>\n",
       "      <td>The Ms Japan contest started in 1950. The winn...</td>\n",
       "      <td>The Ms Japan contest started in 1950. The winn...</td>\n",
       "    </tr>\n",
       "    <tr>\n",
       "      <th>76</th>\n",
       "      <td>「ミス日本コンテスト」は、1950年に第1回が開催された歴史ある大会です。1968年の優勝者...</td>\n",
       "      <td>\"Miss Japan contest\" is a historic tournament ...</td>\n",
       "    </tr>\n",
       "    <tr>\n",
       "      <th>77</th>\n",
       "      <td>一人の結果が全員に影響する、究極のチームワーク。正月の駅伝で完全優勝を果たした、青山学院大学...</td>\n",
       "      <td>One of the results will affect everyone, the u...</td>\n",
       "    </tr>\n",
       "    <tr>\n",
       "      <th>78</th>\n",
       "      <td>秒速８キロで宇宙空間を飛びながら、「こうのとり」をキャッチした油井宇宙飛行士。チームジャパン...</td>\n",
       "      <td>While flying through space at eight kilometers...</td>\n",
       "    </tr>\n",
       "  </tbody>\n",
       "</table>\n",
       "<p>79 rows × 2 columns</p>\n",
       "</div>"
      ],
      "text/plain": [
       "                                Tweet Text Size Block  \\\n",
       "0   選挙期間中、自民党の候補者たちは全国各地で我々の経済政策を、安全保障を、そして日本の将来を担...   \n",
       "1   外国人旅行者数はこの５年間で３倍になりました。自民党は高次元での観光資源施策に取り組み我が国...   \n",
       "2   明日１０月２１日(土) 安倍晋三総裁は岐阜県、愛知県、東京都に参ります。 詳細は是非、自民党...   \n",
       "3   我々がスタートした返さなくても良い「給付型奨学金」や「授業料免除」といった制度を拡充し、真に...   \n",
       "4   明日１０月２０日(金) 安倍晋三総裁は神奈川県、東京都に参ります。 詳細は是非、自民党の特設...   \n",
       "..                                                ...   \n",
       "74  起き抜けに久々に公邸の庭に出ると、今年も庭の片隅に沈丁花が咲いていました。最初の出会いは９年...   \n",
       "75  The Ms Japan contest started in 1950. The winn...   \n",
       "76  「ミス日本コンテスト」は、1950年に第1回が開催された歴史ある大会です。1968年の優勝者...   \n",
       "77  一人の結果が全員に影響する、究極のチームワーク。正月の駅伝で完全優勝を果たした、青山学院大学...   \n",
       "78  秒速８キロで宇宙空間を飛びながら、「こうのとり」をキャッチした油井宇宙飛行士。チームジャパン...   \n",
       "\n",
       "                                  English Translation  \n",
       "0   During the election period, candidates who of ...  \n",
       "1   Foreign visitors number has tripled over the p...  \n",
       "2   Tomorrow, October 21 (Saturday) Susumusan Abe ...  \n",
       "3   It has expanded the system, such as it is not ...  \n",
       "4   Tomorrow, October 20 (Friday) Susumusan Abe Pr...  \n",
       "..                                                ...  \n",
       "74  Upon exiting after a long time the official re...  \n",
       "75  The Ms Japan contest started in 1950. The winn...  \n",
       "76  \"Miss Japan contest\" is a historic tournament ...  \n",
       "77  One of the results will affect everyone, the u...  \n",
       "78  While flying through space at eight kilometers...  \n",
       "\n",
       "[79 rows x 2 columns]"
      ]
     },
     "execution_count": 33,
     "metadata": {},
     "output_type": "execute_result"
    }
   ],
   "source": [
    "dataset"
   ]
  },
  {
   "cell_type": "code",
   "execution_count": 34,
   "metadata": {},
   "outputs": [
    {
     "data": {
      "text/plain": [
       "array(['選挙期間中、自民党の候補者たちは全国各地で我々の経済政策を、安全保障を、そして日本の将来を担っていく決意と地域を支える想いを皆様に訴えかけさせていただきました。「この国を、守り抜く。」自民党はこれからも皆様とともに歩みを進めて参ります。本当に１２日間ご声援ありがとうございました。https://twitter.com/jimin_koho/status/921744056987693057 …',\n",
       "       '外国人旅行者数はこの５年間で３倍になりました。自民党は高次元での観光資源施策に取り組み我が国の伝統文化財等の国内観光資源の強化を図り、さらに観光産業の活性化を実現して参ります。pic.twitter.com/EMNDcADrYB',\n",
       "       '明日１０月２１日(土) 安倍晋三総裁は岐阜県、愛知県、東京都に参ります。 詳細は是非、自民党の特設サイトでご確認下さい。https://special.jimin.jp/',\n",
       "       '我々がスタートした返さなくても良い「給付型奨学金」や「授業料免除」といった制度を拡充し、真に支援が必要な子供たちに高等教育の無償化を図って参ります。 自民党は誰もが学ぶ事を諦めなくて済む、そして安心して学んでいける社会を必ず創り上げます。pic.twitter.com/ZgAYDhlzDD',\n",
       "       '明日１０月２０日(金) 安倍晋三総裁は神奈川県、東京都に参ります。 詳細は是非、自民党の特設サイトでご確認下さい。https://special.jimin.jp/',\n",
       "       '明日１０月１９日(木) 安倍晋三総裁は奈良県、京都府、滋賀県に参ります。 詳細は是非、自民党の特設サイトでご確認下さい。https://special.jimin.jp/',\n",
       "       'この３年間４０代以下で新しく農業を始めた就農者は３年連続で２万人を超えました。 自民党は若者や意欲のある農林漁業者を全力で応援し挑戦を支え、夢や希望を持てる「農政新時代」を切り拓きます。pic.twitter.com/Fp0IqNYTSk',\n",
       "       '私たち自民党は日本の経済を支えている中小企業を力強く応援したい。その思いから中小・小規模事業者の固定資産税を、３年間半減する制度を始め既に３万件近い利用がありました。この制度の実現により中小企業の倒産は3割も減少しました。更に生産性を高めるための支援を大胆に進めます。pic.twitter.com/N9oB57kACi',\n",
       "       '明日１０月１８日(水) 安倍晋三総裁は埼玉県、東京都に参ります。 詳細は是非、自民党の特設サイトでご確認下さい。https://special.jimin.jp/',\n",
       "       'この選挙は北朝鮮の脅威から、いかにして国民の生命と幸せな暮らしを守るのかを決める選挙でもあります。自民党は今まで培ってきた外交力、国際社会との連携とぶれない姿勢で毅然と北朝鮮問題に立ち向かって参ります。pic.twitter.com/LWJdvsIGWp',\n",
       "       '明日１０月１6日(月) 安倍晋三総裁は大阪府に参ります。 詳細は是非、自民党の特設サイトでご確認下さい。https://special.jimin.jp/',\n",
       "       'アベノミクス３本の矢をはじめ我々が推し進めてきた政策によって政権交替後 GDPは５０兆円増え、全都道府県で有効求人倍率は１倍超えるなど景気の回復は着実に進んでおります。 さらに日本の経済を成長させ、皆様一人ひとりにこの成長を実感していただけるよう努力していく所存です。pic.twitter.com/GJXi1sKneK',\n",
       "       '明日１０月１５日(日) 安倍晋三総裁は北海道に参ります。 詳細は是非、自民党の特設サイトでご確認下さい。 https://special.jimin.jp/ #自民党 #安倍晋三 #街頭演説',\n",
       "       '熊本地震から一年半、被害に遭われまだまだ不自由な生活を余儀なくされている多くの被災者の皆様が早く安心して元の生活に戻れるよう全力で復興を成し遂げて参ります。 #この国を守り抜く #衆院選 #自民党pic.twitter.com/HSCeZwlQWl',\n",
       "       '明日１０月１４日(土) 安倍晋三総裁は香川県、兵庫県に参ります。 詳細は是非、自民党の特設サイトでご確認下さい。 https://special.jimin.jp/ #自民党 #安倍晋三 #街頭演説',\n",
       "       '日本、そして世界の安全を脅かす北朝鮮の暴挙を止めるため、国際社会全体で最大限の圧力をかけなければならない。そして何より、日本人の拉致問題を決して埋没させてはならない。横田めぐみさんをはじめ、全ての拉致被害者の方々が日本の地を踏みしめるまで、私たちの闘いは終わりません。 #自民党pic.twitter.com/iSFwmiD5yl',\n",
       "       '明日１０月１３日(金) 安倍晋三総裁は鹿児島県、熊本県、長崎県に参ります。 詳細は是非、自民党の特設サイトでご確認下さい。 https://special.jimin.jp/ #自民党 #安倍晋三 #街頭演説',\n",
       "       '今回の選挙「誰が子ども達の未来を切り拓いていくのか。」ということも問われている大きなテーマです。 少子化によって転換期を迎えている日本。私達自民党は全ての子ども達の可能性を、しっかりとした全世代型の社会保障制度によって支えて参ります。pic.twitter.com/JJrYNlvXfl',\n",
       "       '「自民党頑張れ！」と大勢の皆様にお集まりいただき本当にありがとうございます。我が党の候補者達は国難を突破すべく、そして皆様のご期待にそえるよう最後まで全力で皆様へ政策を訴えさせていただきます。どうかご支援の程よろしくお願いいたします。 #この国を守り抜く #衆院選 #自民党pic.twitter.com/EBdCyKT6om',\n",
       "       '明日１０月１２日(木) 安倍晋三総裁は新潟県に参ります。 詳細は是非、自民党の特設サイトでご確認下さい。 https://special.jimin.jp/ #自民党 #安倍晋三 #街頭演説',\n",
       "       '明日１０月１１日(水) 安倍晋三総裁は静岡県、愛知県に参ります。 詳細は是非、自民党の特設サイトでご確認下さい。 #自民党 #安倍晋三 #街頭演説https://special.jimin.jp',\n",
       "       'いよいよ本日より衆議院総選挙、選挙戦が始まります。 「この選挙は誰に日本の安全を託すのか誰に日本の未来を託すのか。それを決める選挙です。」我々自民党は全力で全国各地で政策を訴え、戦い抜く決意です。 #この国を守り抜く #衆院選 #自民党pic.twitter.com/w3JxANPbz0',\n",
       "       '明日１０月１０日(火) 安倍晋三総裁演説日程が以下の通り決定しました。 皆様ぜひご参加ください。 ●安倍 晋三 総裁 （福島県・岩手県・宮城県） 10:35 踊る小馬亭向かい広場（福島市佐原） 13:40 一関市役所前 15:45 仙台駅東口松栄不動産前 16:30 アエル前pic.twitter.com/qGha2Sytwb',\n",
       "       '【出演番組告知】 10月8日（日）21時から、AbemaTVの生放送番組『徹の部屋』に安倍晋三総裁がゲスト出演することが決定しました。 皆さまぜひご覧ください！ @番組詳細はこちらhttps://abe.ma/2fN8Yz2',\n",
       "       '……秘書です。番組告知です。 本日19:30〜ニコニコ生放送にて 「ネット党首討論」が開催されます。 ご参加、あたたかい応援コメントお待ちしております。 《ニコニコ生放送》 「ネット党首討論」 10/7(土)午後7:30〜http://sp.live2.nicovideo.jp/watch/lv307275744 …',\n",
       "       '2012年の総理大臣就任以来、世界42ヵ国を巡り、191回の首脳会談を行ってきました。 日本が国難に直面している今こそ、築きあげてきた世界各国との信頼関係と、外交力でこの国を力強く守ってまいります。pic.twitter.com/ocb08B1mTZ',\n",
       "       '本件のような無差別で大規模な銃撃事件は、いかなる理由があろうと許されません。断固、非難します。日本は、この困難な時を乗り越えようとする、米国及び米国国民に心からの連帯の意を表します。',\n",
       "       'この度、ラスベガスで発生した米国史上最悪とも言われる銃撃事件により、多数の無辜の市民が犠牲になったことに、大きな衝撃を受けるとともに、強い憤りを覚えます。犠牲になられた方々、また御家族の皆様に対して心からの哀悼の意を表します。そして、負傷された方々の１日も早い回復をお祈りします。',\n",
       "       '我が国の危機管理には一分の隙もない。改めて、そう確信しました。',\n",
       "       '北朝鮮の脅威から国民の命と平和な暮らしを守り抜く。ただひたすら国民のため、厳しい勤務環境の下、絶え間ない緊張感に耐え、黙々と任務に当たる彼らは、日本の誇りです。 ひとたび出港すれば、一月以上も荒波の上。送り出して頂いているご家族の皆様にも心から感謝申し上げます。',\n",
       "       '日本海で北朝鮮の弾道ミサイル警戒に当たり、今日、母港の舞鶴に戻ったばかりのイージス艦「みょうこう」を訪問し、自衛隊員の皆さんを激励しました。皆、実に頼もしく、最高指揮官として大変心強く思いました。pic.twitter.com/NctWbpP8Ip',\n",
       "       'いよいよ選挙戦が始まります。 「この国を、守り抜く。」 私たちは正々堂々、具体的な政策を全国で訴えていきます。pic.twitter.com/XxjMAEJN16',\n",
       "       'インドに到着しました。モディ首相には空港でお出迎え頂きました。pic.twitter.com/eokEYb9IoT',\n",
       "       '心を無にする。 プレミアムフライデーに、座禅を組みました。 慌ただしい毎日ですが、久しぶりに静かなひと時を過ごし、すっきりと落ち着いた気持ちになりました。 この後、上野の博物館に行ってみようと思います。pic.twitter.com/kWB5vHluSF',\n",
       "       '菅元総理は前々回の参院選挙の直前に突然、私を告訴しました。私を貶めることを目的とした売名行為にほかならず、菅元総理の猛省を求めます。',\n",
       "       '元総理が現職の総理を告訴し、裁判で争うことになったことは残念でなりません。私は総理としての時間の一部を裁判のために割かざるを得ないことになりました。 国会議員同士、一度も抗議を受ける事はありませんでした。',\n",
       "       '最高裁の上告棄却により、まさに「真実の勝利」に最終判断が下りました。',\n",
       "       'この決定により当方の勝訴が確定しました。 昨年９月の高裁判決は菅総理の福島原発の海水注入に関連して「間違った判断と嘘」を伝えた私のメルマガ記事の主要な部分が真実であることを認めました。この判決を不服として菅元総理が最高裁に上告していました。',\n",
       "       '菅直人元総理から提訴された「菅総理の海水注入はでっち上げ」と題する私のメールマガジン記事に対する名誉棄損訴訟について、菅元総理は東京高裁の判決を不服として上告していましたが、最高裁は上告を棄却しました。pic.twitter.com/mRuW3CrgbH',\n",
       "       'あけましておめでとうございます。 今年が皆様にとりまして、そして日本国にとりまして素晴らしい年になりますことを心から祈念いたしております。 私も今年一年全力を挙げて参ります。pic.twitter.com/ySQd3KFfXT',\n",
       "       'いよいよ故郷長門市にプーチン大統領をお迎えして、日露首脳会談を行います。プーチン大統領の大統領としての訪日は11年ぶりとなります。 大統領の到着が遅れる様なので、その時間を使って墓参し、晩年、平和条約締結に執念を燃やした父に報告しました。pic.twitter.com/4fohCiVnmC',\n",
       "       'pic.twitter.com/rz3Yl67W8I',\n",
       "       '明日は投票日。全国で厳しい戦いが続いております。我々は身を引き締め最後まで戦い抜きます。日本の未来のために自民党候補者達への力強いご支援よろしくお願いいたします。https://youtu.be/aZldSio8GXI',\n",
       "       '安定した政治が今こそ求められています。 そのためには、皆さんの力がどうしても必要です。pic.twitter.com/HZk3DS9RIn',\n",
       "       '安定した政治が今こそ求められています。 そのためには、皆さんの力がどうしても必要です。https://youtu.be/zFDmFYqMZqM',\n",
       "       '#G7 #伊勢志摩サミットを前に、#移民 や #難民、#テロ対策、#経済といった課題ついて全世界的な協力を強化すべく、@AbeShinzo と友好的かつ建設的な話し合いができた http://ow.ly/4nnvHK',\n",
       "       'Happy to meet Shinzo Abe to celebrate 150 years of strong diplomatic ties between our two countries #begovpic.twitter.com/QSRASvNmMc',\n",
       "       'pic.twitter.com/odyqgYB0vA',\n",
       "       'Removing radiation contaminated water in all weather, 365/24 at Fukushima. I am deeply thankful for dedication and commitment of our peers.',\n",
       "       '炎天下でも５キロを超える重い防護服は欠かせなかった。東京電力福島第一原発で高濃度汚染水を取り除く作業は、前人未踏の廃炉作業の最前線にありました。 皆様には、引き続き、安全第一で、次の作業に頑張っていただきたいと思います。pic.twitter.com/Liubup6IPs',\n",
       "       '福島の「女将会」は、震災以降、福島の魅力の発信や風評の克服に力を注いで来られました。その甲斐もあり、福島の観光業は、ゆっくりと回復しつつありま す。官邸を訪れる各国首脳には、福島のお酒や天然炭酸水をふるまっています。pic.twitter.com/pXhLqM7vzj',\n",
       "       '昨日、春の暖かい日差しの下、粘り強く咲き続けるソメイヨシノとこれから満開を迎える八重桜を共に愛でながら、多くの皆様と楽しいひとときを過ごしました。「日本中に花が咲き誇る、そういう国にしていく」、その決意を新たに致しました。pic.twitter.com/sLfbZJKYFl',\n",
       "       'Bringing back abductees to their families is my administration’s top priority. We will work with our allies until our mission is complete.',\n",
       "       '#拉致問題 の解決は、安倍政権の最重要課題です。拉致被害者の方々と御家族の皆様が抱き合う日が来るまで、私たちの使命は終わりません。被害者を一日も早 く御家族のもとに取り戻すため、国際社会と連携しながら、全力で取り組んでまいります。pic.twitter.com/dT1KerflBs',\n",
       "       \"Jakarta's theatrical group #en塾 singing Japanese requiem composed for the lost souls of the 2011 Tohoku earthquake at PM residence.\",\n",
       "       '「桜よ、咲き誇れ、日本の真ん中で咲き誇れ」「日本よ、咲き誇れ、世界の真ん中で咲き誇れ」ジャカルタの大学生劇団「en塾」の皆さんが、官邸の桜の側で歌ってくれました。東日本大震災に襲われた日本を励まそうと作られた、日本語の歌です。pic.twitter.com/z26EmIxcff',\n",
       "       '「聖火ランナーに浜通りの国道6号を走ってほしい。」福島県双葉郡の高校3年生の願い。彼らが通ういわき市のサテライト校は彼らの卒業後、休校に。それでも「残りの1年の高校生活を大切にし、福島県の復興に少しでも役に立ちたいと思います。」と。pic.twitter.com/g6iPVDuwqf',\n",
       "       \"Close int'l cooperation needed in various areas and levels to prevent terrorists trying to use nuclear weapon #NuclearSecurity Summit\",\n",
       "       '核セキュリティ・サミットは、今回が最後です。核がテロに使われることを防ぐ。これは一国だけでは成し遂げられません。あらゆるレベルで国際的に連帯して対処しなければならない、と訴えました。#NuclearSummitpic.twitter.com/4sewoR7ExH',\n",
       "       '核実験や弾道ミサイル発射など、北朝鮮の挑発行動に歯止めをかけるためには、日米韓の安全保障・防衛協力の強化が喫緊の課題です。米国のオバマ大統領、韓国のパク・クネ大統領との会談で、結束して対応する方針を確認しました。pic.twitter.com/qxjFsDHyiV',\n",
       "       'US, Japan and South Korea recommitted steady united front against provocations and threats from North Korea.',\n",
       "       \"Good discussions w. leading experts in economics in Washington. Japan's role in world economy that is uncertain is tremendously important.\",\n",
       "       '元FRB議長、元財務長官、世界銀行総裁など経済の専門家たちと、現下の世界経済について意見交換。伊勢志摩サミットの最大のテーマは世界経済。誰もが異口同音に「世界経済の不透明感が増す中で、日本の役割は大きい」。日本への大きな期待を痛感。pic.twitter.com/eJ5LR4S3R8',\n",
       "       'Cyber rescue dog “Gonta” in his life-saving suit developed for the Tough Robotics Challenge. Maximizing his ability to save more lives.',\n",
       "       'サイバー救助犬のゴン太は、カメラやセンサーを取り付けたスーツを装着。災害現場での人命救助は、時間との戦いです。「タフロボティクス・チャレン ジ」によって開発された、動きやすさを追求したスーツで、救助犬が持ち前の嗅覚と運動能力を発揮。pic.twitter.com/XiKVw2BxOL',\n",
       "       '今日は、防衛大学校の卒業式。これから厳しい「現場」に向き合う若者たちの門出の日です。どんなに困難な時でも国民の命を守り、平和な暮らしを守る自衛隊。困難な任務に就く道へ、自らの意思で進んでくれた彼ら、彼女らは、日本の誇りです。pic.twitter.com/62FSRdvKOe',\n",
       "       'Today I attended the Spring Equinox Festival at the Imperial Palace, gave thanks for many gifts of Nature, of our culture and traditions.',\n",
       "       '今日は春分の日。宮中に参内し、春季皇霊祭、春季神殿祭に参列いたしました。私たちが、今日、自然の恵みを受け、豊かな文化と伝統の中で生かされていることに対し、深く感謝の念を捧げるとともに、皇室の益々の弥栄と五穀豊穣をお祈りいたしました。pic.twitter.com/4OhfXdhUmO',\n",
       "       'At the National Security Council. North Korean missile launch, a clear breach of UN resolution, is unacceptable threat to Japanese security.',\n",
       "       '今朝、国家安全保障会議（ＮＳＣ）を緊急に招集、政府の対応を確認。北朝鮮の弾道ミサイル発射は明白な安保理決議違反であり、我が国の安全保障に対する重大な挑発行為です。如何なる事態に対しても、国民の安全の確保に万全を期してまいります。pic.twitter.com/FXS7GztG20',\n",
       "       '福島の被災地を訪れるハーバード・ケネディスクール @Kennedy_School の学生たちと。「福島に行くなら、ぜひ、地元の食を味わってください。私は毎日いただいていて、おかげさまでとても元気です。」と呼びかけました。pic.twitter.com/QObUQfjCDN',\n",
       "       '東日本大震災から５年が過ぎました。最愛の御家族や御親族、御友人を亡くされた方々に、衷心より哀悼の意を捧げます。御霊を前に永遠に安かれとお祈り申し上げるとともに、地域の創生につながる復興を成し遂げていくことの決意を新たに致しました。pic.twitter.com/n2NPfR7E16',\n",
       "       '福島で美味しい牛乳をいただきました。５人の被災農家が力を合わせて酪農の再開を決意し、新しい牛舎ができて「がんばろうという気持ちになった。」地域とのつながりを活かして、「酪農っていいね」と多くの人に言ってもらう夢を成就させてください。pic.twitter.com/gakkwxC2u4',\n",
       "       'pic.twitter.com/PhHW29bVWi',\n",
       "       '起き抜けに久々に公邸の庭に出ると、今年も庭の片隅に沈丁花が咲いていました。最初の出会いは９年前、今年公邸でこの花と共に５回目の春を迎える事となりました。決意を新たにしました。花の香りに誘われての一枚。皆さんにお届けしたいと想います。pic.twitter.com/6qTdSIEx1A',\n",
       "       'The Ms Japan contest started in 1950. The winner in 1968 met my grandfather PM Kishi before travelling the world before the Osaka Expo.',\n",
       "       '「ミス日本コンテスト」は、1950年に第1回が開催された歴史ある大会です。1968年の優勝者は、大阪万博の親善使節として世界を回る前に、私の祖父・岸信介に会ったと伺いました。日本の女性が、世界中で活躍することを応援したいと思います。pic.twitter.com/WB1nrbytdk',\n",
       "       '一人の結果が全員に影響する、究極のチームワーク。正月の駅伝で完全優勝を果たした、青山学院大学の原監督と選手の皆さんは、優勝の感動をしみじみ語ってくれました。選手たちは礼儀正しくも、明るく自由闊達で、大いに会話が盛り上がりました。pic.twitter.com/wX9rebRmTD',\n",
       "       '秒速８キロで宇宙空間を飛びながら、「こうのとり」をキャッチした油井宇宙飛行士。チームジャパンの中心として、日本の宇宙技術の高さを世界に示してくれました。宇宙から撮影した富士山の写真をいただき、早速執務室に飾らせていただきました。pic.twitter.com/ZFPYeem18c'],\n",
       "      dtype=object)"
      ]
     },
     "execution_count": 34,
     "metadata": {},
     "output_type": "execute_result"
    }
   ],
   "source": [
    "dataset['Tweet Text Size Block'].values"
   ]
  },
  {
   "cell_type": "code",
   "execution_count": 37,
   "metadata": {},
   "outputs": [],
   "source": [
    "splited = []\n",
    "\n",
    "for line in dataset['Tweet Text Size Block']:\n",
    "    split = line.split('。')\n",
    "    splited.append(split)"
   ]
  },
  {
   "cell_type": "code",
   "execution_count": 39,
   "metadata": {},
   "outputs": [],
   "source": [
    "splited_array = np.array(splited)"
   ]
  },
  {
   "cell_type": "code",
   "execution_count": 57,
   "metadata": {},
   "outputs": [],
   "source": [
    "chinese = []\n",
    "iterate = range(0,79)\n",
    "for i in iterate:\n",
    "    chinese_line = splited_array[i][:-1]\n",
    "    chinese.append(chinese_line)"
   ]
  },
  {
   "cell_type": "code",
   "execution_count": 58,
   "metadata": {},
   "outputs": [
    {
     "data": {
      "text/plain": [
       "[['選挙期間中、自民党の候補者たちは全国各地で我々の経済政策を、安全保障を、そして日本の将来を担っていく決意と地域を支える想いを皆様に訴えかけさせていただきました',\n",
       "  '「この国を、守り抜く',\n",
       "  '」自民党はこれからも皆様とともに歩みを進めて参ります',\n",
       "  '本当に１２日間ご声援ありがとうございました'],\n",
       " ['外国人旅行者数はこの５年間で３倍になりました',\n",
       "  '自民党は高次元での観光資源施策に取り組み我が国の伝統文化財等の国内観光資源の強化を図り、さらに観光産業の活性化を実現して参ります'],\n",
       " ['明日１０月２１日(土) 安倍晋三総裁は岐阜県、愛知県、東京都に参ります', ' 詳細は是非、自民党の特設サイトでご確認下さい'],\n",
       " ['我々がスタートした返さなくても良い「給付型奨学金」や「授業料免除」といった制度を拡充し、真に支援が必要な子供たちに高等教育の無償化を図って参ります',\n",
       "  ' 自民党は誰もが学ぶ事を諦めなくて済む、そして安心して学んでいける社会を必ず創り上げます'],\n",
       " ['明日１０月２０日(金) 安倍晋三総裁は神奈川県、東京都に参ります', ' 詳細は是非、自民党の特設サイトでご確認下さい'],\n",
       " ['明日１０月１９日(木) 安倍晋三総裁は奈良県、京都府、滋賀県に参ります', ' 詳細は是非、自民党の特設サイトでご確認下さい'],\n",
       " ['この３年間４０代以下で新しく農業を始めた就農者は３年連続で２万人を超えました',\n",
       "  ' 自民党は若者や意欲のある農林漁業者を全力で応援し挑戦を支え、夢や希望を持てる「農政新時代」を切り拓きます'],\n",
       " ['私たち自民党は日本の経済を支えている中小企業を力強く応援したい',\n",
       "  'その思いから中小・小規模事業者の固定資産税を、３年間半減する制度を始め既に３万件近い利用がありました',\n",
       "  'この制度の実現により中小企業の倒産は3割も減少しました',\n",
       "  '更に生産性を高めるための支援を大胆に進めます'],\n",
       " ['明日１０月１８日(水) 安倍晋三総裁は埼玉県、東京都に参ります', ' 詳細は是非、自民党の特設サイトでご確認下さい'],\n",
       " ['この選挙は北朝鮮の脅威から、いかにして国民の生命と幸せな暮らしを守るのかを決める選挙でもあります',\n",
       "  '自民党は今まで培ってきた外交力、国際社会との連携とぶれない姿勢で毅然と北朝鮮問題に立ち向かって参ります'],\n",
       " ['明日１０月１6日(月) 安倍晋三総裁は大阪府に参ります', ' 詳細は是非、自民党の特設サイトでご確認下さい'],\n",
       " ['アベノミクス３本の矢をはじめ我々が推し進めてきた政策によって政権交替後 GDPは５０兆円増え、全都道府県で有効求人倍率は１倍超えるなど景気の回復は着実に進んでおります',\n",
       "  ' さらに日本の経済を成長させ、皆様一人ひとりにこの成長を実感していただけるよう努力していく所存です'],\n",
       " ['明日１０月１５日(日) 安倍晋三総裁は北海道に参ります', ' 詳細は是非、自民党の特設サイトでご確認下さい'],\n",
       " ['熊本地震から一年半、被害に遭われまだまだ不自由な生活を余儀なくされている多くの被災者の皆様が早く安心して元の生活に戻れるよう全力で復興を成し遂げて参ります'],\n",
       " ['明日１０月１４日(土) 安倍晋三総裁は香川県、兵庫県に参ります', ' 詳細は是非、自民党の特設サイトでご確認下さい'],\n",
       " ['日本、そして世界の安全を脅かす北朝鮮の暴挙を止めるため、国際社会全体で最大限の圧力をかけなければならない',\n",
       "  'そして何より、日本人の拉致問題を決して埋没させてはならない',\n",
       "  '横田めぐみさんをはじめ、全ての拉致被害者の方々が日本の地を踏みしめるまで、私たちの闘いは終わりません'],\n",
       " ['明日１０月１３日(金) 安倍晋三総裁は鹿児島県、熊本県、長崎県に参ります', ' 詳細は是非、自民党の特設サイトでご確認下さい'],\n",
       " ['今回の選挙「誰が子ども達の未来を切り拓いていくのか',\n",
       "  '」ということも問われている大きなテーマです',\n",
       "  ' 少子化によって転換期を迎えている日本',\n",
       "  '私達自民党は全ての子ども達の可能性を、しっかりとした全世代型の社会保障制度によって支えて参ります'],\n",
       " ['「自民党頑張れ！」と大勢の皆様にお集まりいただき本当にありがとうございます',\n",
       "  '我が党の候補者達は国難を突破すべく、そして皆様のご期待にそえるよう最後まで全力で皆様へ政策を訴えさせていただきます',\n",
       "  'どうかご支援の程よろしくお願いいたします'],\n",
       " ['明日１０月１２日(木) 安倍晋三総裁は新潟県に参ります', ' 詳細は是非、自民党の特設サイトでご確認下さい'],\n",
       " ['明日１０月１１日(水) 安倍晋三総裁は静岡県、愛知県に参ります', ' 詳細は是非、自民党の特設サイトでご確認下さい'],\n",
       " ['いよいよ本日より衆議院総選挙、選挙戦が始まります',\n",
       "  ' 「この選挙は誰に日本の安全を託すのか誰に日本の未来を託すのか',\n",
       "  'それを決める選挙です',\n",
       "  '」我々自民党は全力で全国各地で政策を訴え、戦い抜く決意です'],\n",
       " ['明日１０月１０日(火) 安倍晋三総裁演説日程が以下の通り決定しました', ' 皆様ぜひご参加ください'],\n",
       " ['【出演番組告知】 10月8日（日）21時から、AbemaTVの生放送番組『徹の部屋』に安倍晋三総裁がゲスト出演することが決定しました'],\n",
       " ['……秘書です',\n",
       "  '番組告知です',\n",
       "  ' 本日19:30〜ニコニコ生放送にて 「ネット党首討論」が開催されます',\n",
       "  ' ご参加、あたたかい応援コメントお待ちしております'],\n",
       " ['2012年の総理大臣就任以来、世界42ヵ国を巡り、191回の首脳会談を行ってきました',\n",
       "  ' 日本が国難に直面している今こそ、築きあげてきた世界各国との信頼関係と、外交力でこの国を力強く守ってまいります'],\n",
       " ['本件のような無差別で大規模な銃撃事件は、いかなる理由があろうと許されません',\n",
       "  '断固、非難します',\n",
       "  '日本は、この困難な時を乗り越えようとする、米国及び米国国民に心からの連帯の意を表します'],\n",
       " ['この度、ラスベガスで発生した米国史上最悪とも言われる銃撃事件により、多数の無辜の市民が犠牲になったことに、大きな衝撃を受けるとともに、強い憤りを覚えます',\n",
       "  '犠牲になられた方々、また御家族の皆様に対して心からの哀悼の意を表します',\n",
       "  'そして、負傷された方々の１日も早い回復をお祈りします'],\n",
       " ['我が国の危機管理には一分の隙もない', '改めて、そう確信しました'],\n",
       " ['北朝鮮の脅威から国民の命と平和な暮らしを守り抜く',\n",
       "  'ただひたすら国民のため、厳しい勤務環境の下、絶え間ない緊張感に耐え、黙々と任務に当たる彼らは、日本の誇りです',\n",
       "  ' ひとたび出港すれば、一月以上も荒波の上',\n",
       "  '送り出して頂いているご家族の皆様にも心から感謝申し上げます'],\n",
       " ['日本海で北朝鮮の弾道ミサイル警戒に当たり、今日、母港の舞鶴に戻ったばかりのイージス艦「みょうこう」を訪問し、自衛隊員の皆さんを激励しました',\n",
       "  '皆、実に頼もしく、最高指揮官として大変心強く思いました'],\n",
       " ['いよいよ選挙戦が始まります', ' 「この国を、守り抜く', '」 私たちは正々堂々、具体的な政策を全国で訴えていきます'],\n",
       " ['インドに到着しました', 'モディ首相には空港でお出迎え頂きました'],\n",
       " ['心を無にする',\n",
       "  ' プレミアムフライデーに、座禅を組みました',\n",
       "  ' 慌ただしい毎日ですが、久しぶりに静かなひと時を過ごし、すっきりと落ち着いた気持ちになりました',\n",
       "  ' この後、上野の博物館に行ってみようと思います'],\n",
       " ['菅元総理は前々回の参院選挙の直前に突然、私を告訴しました', '私を貶めることを目的とした売名行為にほかならず、菅元総理の猛省を求めます'],\n",
       " ['元総理が現職の総理を告訴し、裁判で争うことになったことは残念でなりません',\n",
       "  '私は総理としての時間の一部を裁判のために割かざるを得ないことになりました',\n",
       "  ' 国会議員同士、一度も抗議を受ける事はありませんでした'],\n",
       " ['最高裁の上告棄却により、まさに「真実の勝利」に最終判断が下りました'],\n",
       " ['この決定により当方の勝訴が確定しました',\n",
       "  ' 昨年９月の高裁判決は菅総理の福島原発の海水注入に関連して「間違った判断と嘘」を伝えた私のメルマガ記事の主要な部分が真実であることを認めました',\n",
       "  'この判決を不服として菅元総理が最高裁に上告していました'],\n",
       " ['菅直人元総理から提訴された「菅総理の海水注入はでっち上げ」と題する私のメールマガジン記事に対する名誉棄損訴訟について、菅元総理は東京高裁の判決を不服として上告していましたが、最高裁は上告を棄却しました'],\n",
       " ['あけましておめでとうございます',\n",
       "  ' 今年が皆様にとりまして、そして日本国にとりまして素晴らしい年になりますことを心から祈念いたしております',\n",
       "  ' 私も今年一年全力を挙げて参ります'],\n",
       " ['いよいよ故郷長門市にプーチン大統領をお迎えして、日露首脳会談を行います',\n",
       "  'プーチン大統領の大統領としての訪日は11年ぶりとなります',\n",
       "  ' 大統領の到着が遅れる様なので、その時間を使って墓参し、晩年、平和条約締結に執念を燃やした父に報告しました'],\n",
       " [],\n",
       " ['明日は投票日',\n",
       "  '全国で厳しい戦いが続いております',\n",
       "  '我々は身を引き締め最後まで戦い抜きます',\n",
       "  '日本の未来のために自民党候補者達への力強いご支援よろしくお願いいたします'],\n",
       " ['安定した政治が今こそ求められています', ' そのためには、皆さんの力がどうしても必要です'],\n",
       " ['安定した政治が今こそ求められています', ' そのためには、皆さんの力がどうしても必要です'],\n",
       " [],\n",
       " [],\n",
       " [],\n",
       " [],\n",
       " ['炎天下でも５キロを超える重い防護服は欠かせなかった',\n",
       "  '東京電力福島第一原発で高濃度汚染水を取り除く作業は、前人未踏の廃炉作業の最前線にありました',\n",
       "  ' 皆様には、引き続き、安全第一で、次の作業に頑張っていただきたいと思います'],\n",
       " ['福島の「女将会」は、震災以降、福島の魅力の発信や風評の克服に力を注いで来られました',\n",
       "  'その甲斐もあり、福島の観光業は、ゆっくりと回復しつつありま す',\n",
       "  '官邸を訪れる各国首脳には、福島のお酒や天然炭酸水をふるまっています'],\n",
       " ['昨日、春の暖かい日差しの下、粘り強く咲き続けるソメイヨシノとこれから満開を迎える八重桜を共に愛でながら、多くの皆様と楽しいひとときを過ごしました',\n",
       "  '「日本中に花が咲き誇る、そういう国にしていく」、その決意を新たに致しました'],\n",
       " [],\n",
       " ['#拉致問題 の解決は、安倍政権の最重要課題です',\n",
       "  '拉致被害者の方々と御家族の皆様が抱き合う日が来るまで、私たちの使命は終わりません',\n",
       "  '被害者を一日も早 く御家族のもとに取り戻すため、国際社会と連携しながら、全力で取り組んでまいります'],\n",
       " [],\n",
       " ['「桜よ、咲き誇れ、日本の真ん中で咲き誇れ」「日本よ、咲き誇れ、世界の真ん中で咲き誇れ」ジャカルタの大学生劇団「en塾」の皆さんが、官邸の桜の側で歌ってくれました',\n",
       "  '東日本大震災に襲われた日本を励まそうと作られた、日本語の歌です'],\n",
       " ['「聖火ランナーに浜通りの国道6号を走ってほしい',\n",
       "  '」福島県双葉郡の高校3年生の願い',\n",
       "  '彼らが通ういわき市のサテライト校は彼らの卒業後、休校に',\n",
       "  'それでも「残りの1年の高校生活を大切にし、福島県の復興に少しでも役に立ちたいと思います',\n",
       "  '」と'],\n",
       " [],\n",
       " ['核セキュリティ・サミットは、今回が最後です',\n",
       "  '核がテロに使われることを防ぐ',\n",
       "  'これは一国だけでは成し遂げられません',\n",
       "  'あらゆるレベルで国際的に連帯して対処しなければならない、と訴えました'],\n",
       " ['核実験や弾道ミサイル発射など、北朝鮮の挑発行動に歯止めをかけるためには、日米韓の安全保障・防衛協力の強化が喫緊の課題です',\n",
       "  '米国のオバマ大統領、韓国のパク・クネ大統領との会談で、結束して対応する方針を確認しました'],\n",
       " [],\n",
       " [],\n",
       " ['元FRB議長、元財務長官、世界銀行総裁など経済の専門家たちと、現下の世界経済について意見交換',\n",
       "  '伊勢志摩サミットの最大のテーマは世界経済',\n",
       "  '誰もが異口同音に「世界経済の不透明感が増す中で、日本の役割は大きい」',\n",
       "  '日本への大きな期待を痛感'],\n",
       " [],\n",
       " ['サイバー救助犬のゴン太は、カメラやセンサーを取り付けたスーツを装着',\n",
       "  '災害現場での人命救助は、時間との戦いです',\n",
       "  '「タフロボティクス・チャレン ジ」によって開発された、動きやすさを追求したスーツで、救助犬が持ち前の嗅覚と運動能力を発揮'],\n",
       " ['今日は、防衛大学校の卒業式',\n",
       "  'これから厳しい「現場」に向き合う若者たちの門出の日です',\n",
       "  'どんなに困難な時でも国民の命を守り、平和な暮らしを守る自衛隊',\n",
       "  '困難な任務に就く道へ、自らの意思で進んでくれた彼ら、彼女らは、日本の誇りです'],\n",
       " [],\n",
       " ['今日は春分の日',\n",
       "  '宮中に参内し、春季皇霊祭、春季神殿祭に参列いたしました',\n",
       "  '私たちが、今日、自然の恵みを受け、豊かな文化と伝統の中で生かされていることに対し、深く感謝の念を捧げるとともに、皇室の益々の弥栄と五穀豊穣をお祈りいたしました'],\n",
       " [],\n",
       " ['今朝、国家安全保障会議（ＮＳＣ）を緊急に招集、政府の対応を確認',\n",
       "  '北朝鮮の弾道ミサイル発射は明白な安保理決議違反であり、我が国の安全保障に対する重大な挑発行為です',\n",
       "  '如何なる事態に対しても、国民の安全の確保に万全を期してまいります'],\n",
       " ['福島の被災地を訪れるハーバード・ケネディスクール @Kennedy_School の学生たちと',\n",
       "  '「福島に行くなら、ぜひ、地元の食を味わってください',\n",
       "  '私は毎日いただいていて、おかげさまでとても元気です',\n",
       "  '」と呼びかけました'],\n",
       " ['東日本大震災から５年が過ぎました',\n",
       "  '最愛の御家族や御親族、御友人を亡くされた方々に、衷心より哀悼の意を捧げます',\n",
       "  '御霊を前に永遠に安かれとお祈り申し上げるとともに、地域の創生につながる復興を成し遂げていくことの決意を新たに致しました'],\n",
       " ['福島で美味しい牛乳をいただきました',\n",
       "  '５人の被災農家が力を合わせて酪農の再開を決意し、新しい牛舎ができて「がんばろうという気持ちになった',\n",
       "  '」地域とのつながりを活かして、「酪農っていいね」と多くの人に言ってもらう夢を成就させてください'],\n",
       " [],\n",
       " ['起き抜けに久々に公邸の庭に出ると、今年も庭の片隅に沈丁花が咲いていました',\n",
       "  '最初の出会いは９年前、今年公邸でこの花と共に５回目の春を迎える事となりました',\n",
       "  '決意を新たにしました',\n",
       "  '花の香りに誘われての一枚',\n",
       "  '皆さんにお届けしたいと想います'],\n",
       " [],\n",
       " ['「ミス日本コンテスト」は、1950年に第1回が開催された歴史ある大会です',\n",
       "  '1968年の優勝者は、大阪万博の親善使節として世界を回る前に、私の祖父・岸信介に会ったと伺いました',\n",
       "  '日本の女性が、世界中で活躍することを応援したいと思います'],\n",
       " ['一人の結果が全員に影響する、究極のチームワーク',\n",
       "  '正月の駅伝で完全優勝を果たした、青山学院大学の原監督と選手の皆さんは、優勝の感動をしみじみ語ってくれました',\n",
       "  '選手たちは礼儀正しくも、明るく自由闊達で、大いに会話が盛り上がりました'],\n",
       " ['秒速８キロで宇宙空間を飛びながら、「こうのとり」をキャッチした油井宇宙飛行士',\n",
       "  'チームジャパンの中心として、日本の宇宙技術の高さを世界に示してくれました',\n",
       "  '宇宙から撮影した富士山の写真をいただき、早速執務室に飾らせていただきました']]"
      ]
     },
     "execution_count": 58,
     "metadata": {},
     "output_type": "execute_result"
    }
   ],
   "source": [
    "chinese"
   ]
  },
  {
   "cell_type": "code",
   "execution_count": 59,
   "metadata": {},
   "outputs": [],
   "source": [
    "chinese_array = np.array(chinese)"
   ]
  },
  {
   "cell_type": "code",
   "execution_count": 60,
   "metadata": {},
   "outputs": [
    {
     "data": {
      "text/plain": [
       "array([list(['選挙期間中、自民党の候補者たちは全国各地で我々の経済政策を、安全保障を、そして日本の将来を担っていく決意と地域を支える想いを皆様に訴えかけさせていただきました', '「この国を、守り抜く', '」自民党はこれからも皆様とともに歩みを進めて参ります', '本当に１２日間ご声援ありがとうございました']),\n",
       "       list(['外国人旅行者数はこの５年間で３倍になりました', '自民党は高次元での観光資源施策に取り組み我が国の伝統文化財等の国内観光資源の強化を図り、さらに観光産業の活性化を実現して参ります']),\n",
       "       list(['明日１０月２１日(土) 安倍晋三総裁は岐阜県、愛知県、東京都に参ります', ' 詳細は是非、自民党の特設サイトでご確認下さい']),\n",
       "       list(['我々がスタートした返さなくても良い「給付型奨学金」や「授業料免除」といった制度を拡充し、真に支援が必要な子供たちに高等教育の無償化を図って参ります', ' 自民党は誰もが学ぶ事を諦めなくて済む、そして安心して学んでいける社会を必ず創り上げます']),\n",
       "       list(['明日１０月２０日(金) 安倍晋三総裁は神奈川県、東京都に参ります', ' 詳細は是非、自民党の特設サイトでご確認下さい']),\n",
       "       list(['明日１０月１９日(木) 安倍晋三総裁は奈良県、京都府、滋賀県に参ります', ' 詳細は是非、自民党の特設サイトでご確認下さい']),\n",
       "       list(['この３年間４０代以下で新しく農業を始めた就農者は３年連続で２万人を超えました', ' 自民党は若者や意欲のある農林漁業者を全力で応援し挑戦を支え、夢や希望を持てる「農政新時代」を切り拓きます']),\n",
       "       list(['私たち自民党は日本の経済を支えている中小企業を力強く応援したい', 'その思いから中小・小規模事業者の固定資産税を、３年間半減する制度を始め既に３万件近い利用がありました', 'この制度の実現により中小企業の倒産は3割も減少しました', '更に生産性を高めるための支援を大胆に進めます']),\n",
       "       list(['明日１０月１８日(水) 安倍晋三総裁は埼玉県、東京都に参ります', ' 詳細は是非、自民党の特設サイトでご確認下さい']),\n",
       "       list(['この選挙は北朝鮮の脅威から、いかにして国民の生命と幸せな暮らしを守るのかを決める選挙でもあります', '自民党は今まで培ってきた外交力、国際社会との連携とぶれない姿勢で毅然と北朝鮮問題に立ち向かって参ります']),\n",
       "       list(['明日１０月１6日(月) 安倍晋三総裁は大阪府に参ります', ' 詳細は是非、自民党の特設サイトでご確認下さい']),\n",
       "       list(['アベノミクス３本の矢をはじめ我々が推し進めてきた政策によって政権交替後 GDPは５０兆円増え、全都道府県で有効求人倍率は１倍超えるなど景気の回復は着実に進んでおります', ' さらに日本の経済を成長させ、皆様一人ひとりにこの成長を実感していただけるよう努力していく所存です']),\n",
       "       list(['明日１０月１５日(日) 安倍晋三総裁は北海道に参ります', ' 詳細は是非、自民党の特設サイトでご確認下さい']),\n",
       "       list(['熊本地震から一年半、被害に遭われまだまだ不自由な生活を余儀なくされている多くの被災者の皆様が早く安心して元の生活に戻れるよう全力で復興を成し遂げて参ります']),\n",
       "       list(['明日１０月１４日(土) 安倍晋三総裁は香川県、兵庫県に参ります', ' 詳細は是非、自民党の特設サイトでご確認下さい']),\n",
       "       list(['日本、そして世界の安全を脅かす北朝鮮の暴挙を止めるため、国際社会全体で最大限の圧力をかけなければならない', 'そして何より、日本人の拉致問題を決して埋没させてはならない', '横田めぐみさんをはじめ、全ての拉致被害者の方々が日本の地を踏みしめるまで、私たちの闘いは終わりません']),\n",
       "       list(['明日１０月１３日(金) 安倍晋三総裁は鹿児島県、熊本県、長崎県に参ります', ' 詳細は是非、自民党の特設サイトでご確認下さい']),\n",
       "       list(['今回の選挙「誰が子ども達の未来を切り拓いていくのか', '」ということも問われている大きなテーマです', ' 少子化によって転換期を迎えている日本', '私達自民党は全ての子ども達の可能性を、しっかりとした全世代型の社会保障制度によって支えて参ります']),\n",
       "       list(['「自民党頑張れ！」と大勢の皆様にお集まりいただき本当にありがとうございます', '我が党の候補者達は国難を突破すべく、そして皆様のご期待にそえるよう最後まで全力で皆様へ政策を訴えさせていただきます', 'どうかご支援の程よろしくお願いいたします']),\n",
       "       list(['明日１０月１２日(木) 安倍晋三総裁は新潟県に参ります', ' 詳細は是非、自民党の特設サイトでご確認下さい']),\n",
       "       list(['明日１０月１１日(水) 安倍晋三総裁は静岡県、愛知県に参ります', ' 詳細は是非、自民党の特設サイトでご確認下さい']),\n",
       "       list(['いよいよ本日より衆議院総選挙、選挙戦が始まります', ' 「この選挙は誰に日本の安全を託すのか誰に日本の未来を託すのか', 'それを決める選挙です', '」我々自民党は全力で全国各地で政策を訴え、戦い抜く決意です']),\n",
       "       list(['明日１０月１０日(火) 安倍晋三総裁演説日程が以下の通り決定しました', ' 皆様ぜひご参加ください']),\n",
       "       list(['【出演番組告知】 10月8日（日）21時から、AbemaTVの生放送番組『徹の部屋』に安倍晋三総裁がゲスト出演することが決定しました']),\n",
       "       list(['……秘書です', '番組告知です', ' 本日19:30〜ニコニコ生放送にて 「ネット党首討論」が開催されます', ' ご参加、あたたかい応援コメントお待ちしております']),\n",
       "       list(['2012年の総理大臣就任以来、世界42ヵ国を巡り、191回の首脳会談を行ってきました', ' 日本が国難に直面している今こそ、築きあげてきた世界各国との信頼関係と、外交力でこの国を力強く守ってまいります']),\n",
       "       list(['本件のような無差別で大規模な銃撃事件は、いかなる理由があろうと許されません', '断固、非難します', '日本は、この困難な時を乗り越えようとする、米国及び米国国民に心からの連帯の意を表します']),\n",
       "       list(['この度、ラスベガスで発生した米国史上最悪とも言われる銃撃事件により、多数の無辜の市民が犠牲になったことに、大きな衝撃を受けるとともに、強い憤りを覚えます', '犠牲になられた方々、また御家族の皆様に対して心からの哀悼の意を表します', 'そして、負傷された方々の１日も早い回復をお祈りします']),\n",
       "       list(['我が国の危機管理には一分の隙もない', '改めて、そう確信しました']),\n",
       "       list(['北朝鮮の脅威から国民の命と平和な暮らしを守り抜く', 'ただひたすら国民のため、厳しい勤務環境の下、絶え間ない緊張感に耐え、黙々と任務に当たる彼らは、日本の誇りです', ' ひとたび出港すれば、一月以上も荒波の上', '送り出して頂いているご家族の皆様にも心から感謝申し上げます']),\n",
       "       list(['日本海で北朝鮮の弾道ミサイル警戒に当たり、今日、母港の舞鶴に戻ったばかりのイージス艦「みょうこう」を訪問し、自衛隊員の皆さんを激励しました', '皆、実に頼もしく、最高指揮官として大変心強く思いました']),\n",
       "       list(['いよいよ選挙戦が始まります', ' 「この国を、守り抜く', '」 私たちは正々堂々、具体的な政策を全国で訴えていきます']),\n",
       "       list(['インドに到着しました', 'モディ首相には空港でお出迎え頂きました']),\n",
       "       list(['心を無にする', ' プレミアムフライデーに、座禅を組みました', ' 慌ただしい毎日ですが、久しぶりに静かなひと時を過ごし、すっきりと落ち着いた気持ちになりました', ' この後、上野の博物館に行ってみようと思います']),\n",
       "       list(['菅元総理は前々回の参院選挙の直前に突然、私を告訴しました', '私を貶めることを目的とした売名行為にほかならず、菅元総理の猛省を求めます']),\n",
       "       list(['元総理が現職の総理を告訴し、裁判で争うことになったことは残念でなりません', '私は総理としての時間の一部を裁判のために割かざるを得ないことになりました', ' 国会議員同士、一度も抗議を受ける事はありませんでした']),\n",
       "       list(['最高裁の上告棄却により、まさに「真実の勝利」に最終判断が下りました']),\n",
       "       list(['この決定により当方の勝訴が確定しました', ' 昨年９月の高裁判決は菅総理の福島原発の海水注入に関連して「間違った判断と嘘」を伝えた私のメルマガ記事の主要な部分が真実であることを認めました', 'この判決を不服として菅元総理が最高裁に上告していました']),\n",
       "       list(['菅直人元総理から提訴された「菅総理の海水注入はでっち上げ」と題する私のメールマガジン記事に対する名誉棄損訴訟について、菅元総理は東京高裁の判決を不服として上告していましたが、最高裁は上告を棄却しました']),\n",
       "       list(['あけましておめでとうございます', ' 今年が皆様にとりまして、そして日本国にとりまして素晴らしい年になりますことを心から祈念いたしております', ' 私も今年一年全力を挙げて参ります']),\n",
       "       list(['いよいよ故郷長門市にプーチン大統領をお迎えして、日露首脳会談を行います', 'プーチン大統領の大統領としての訪日は11年ぶりとなります', ' 大統領の到着が遅れる様なので、その時間を使って墓参し、晩年、平和条約締結に執念を燃やした父に報告しました']),\n",
       "       list([]),\n",
       "       list(['明日は投票日', '全国で厳しい戦いが続いております', '我々は身を引き締め最後まで戦い抜きます', '日本の未来のために自民党候補者達への力強いご支援よろしくお願いいたします']),\n",
       "       list(['安定した政治が今こそ求められています', ' そのためには、皆さんの力がどうしても必要です']),\n",
       "       list(['安定した政治が今こそ求められています', ' そのためには、皆さんの力がどうしても必要です']), list([]),\n",
       "       list([]), list([]), list([]),\n",
       "       list(['炎天下でも５キロを超える重い防護服は欠かせなかった', '東京電力福島第一原発で高濃度汚染水を取り除く作業は、前人未踏の廃炉作業の最前線にありました', ' 皆様には、引き続き、安全第一で、次の作業に頑張っていただきたいと思います']),\n",
       "       list(['福島の「女将会」は、震災以降、福島の魅力の発信や風評の克服に力を注いで来られました', 'その甲斐もあり、福島の観光業は、ゆっくりと回復しつつありま す', '官邸を訪れる各国首脳には、福島のお酒や天然炭酸水をふるまっています']),\n",
       "       list(['昨日、春の暖かい日差しの下、粘り強く咲き続けるソメイヨシノとこれから満開を迎える八重桜を共に愛でながら、多くの皆様と楽しいひとときを過ごしました', '「日本中に花が咲き誇る、そういう国にしていく」、その決意を新たに致しました']),\n",
       "       list([]),\n",
       "       list(['#拉致問題 の解決は、安倍政権の最重要課題です', '拉致被害者の方々と御家族の皆様が抱き合う日が来るまで、私たちの使命は終わりません', '被害者を一日も早 く御家族のもとに取り戻すため、国際社会と連携しながら、全力で取り組んでまいります']),\n",
       "       list([]),\n",
       "       list(['「桜よ、咲き誇れ、日本の真ん中で咲き誇れ」「日本よ、咲き誇れ、世界の真ん中で咲き誇れ」ジャカルタの大学生劇団「en塾」の皆さんが、官邸の桜の側で歌ってくれました', '東日本大震災に襲われた日本を励まそうと作られた、日本語の歌です']),\n",
       "       list(['「聖火ランナーに浜通りの国道6号を走ってほしい', '」福島県双葉郡の高校3年生の願い', '彼らが通ういわき市のサテライト校は彼らの卒業後、休校に', 'それでも「残りの1年の高校生活を大切にし、福島県の復興に少しでも役に立ちたいと思います', '」と']),\n",
       "       list([]),\n",
       "       list(['核セキュリティ・サミットは、今回が最後です', '核がテロに使われることを防ぐ', 'これは一国だけでは成し遂げられません', 'あらゆるレベルで国際的に連帯して対処しなければならない、と訴えました']),\n",
       "       list(['核実験や弾道ミサイル発射など、北朝鮮の挑発行動に歯止めをかけるためには、日米韓の安全保障・防衛協力の強化が喫緊の課題です', '米国のオバマ大統領、韓国のパク・クネ大統領との会談で、結束して対応する方針を確認しました']),\n",
       "       list([]), list([]),\n",
       "       list(['元FRB議長、元財務長官、世界銀行総裁など経済の専門家たちと、現下の世界経済について意見交換', '伊勢志摩サミットの最大のテーマは世界経済', '誰もが異口同音に「世界経済の不透明感が増す中で、日本の役割は大きい」', '日本への大きな期待を痛感']),\n",
       "       list([]),\n",
       "       list(['サイバー救助犬のゴン太は、カメラやセンサーを取り付けたスーツを装着', '災害現場での人命救助は、時間との戦いです', '「タフロボティクス・チャレン ジ」によって開発された、動きやすさを追求したスーツで、救助犬が持ち前の嗅覚と運動能力を発揮']),\n",
       "       list(['今日は、防衛大学校の卒業式', 'これから厳しい「現場」に向き合う若者たちの門出の日です', 'どんなに困難な時でも国民の命を守り、平和な暮らしを守る自衛隊', '困難な任務に就く道へ、自らの意思で進んでくれた彼ら、彼女らは、日本の誇りです']),\n",
       "       list([]),\n",
       "       list(['今日は春分の日', '宮中に参内し、春季皇霊祭、春季神殿祭に参列いたしました', '私たちが、今日、自然の恵みを受け、豊かな文化と伝統の中で生かされていることに対し、深く感謝の念を捧げるとともに、皇室の益々の弥栄と五穀豊穣をお祈りいたしました']),\n",
       "       list([]),\n",
       "       list(['今朝、国家安全保障会議（ＮＳＣ）を緊急に招集、政府の対応を確認', '北朝鮮の弾道ミサイル発射は明白な安保理決議違反であり、我が国の安全保障に対する重大な挑発行為です', '如何なる事態に対しても、国民の安全の確保に万全を期してまいります']),\n",
       "       list(['福島の被災地を訪れるハーバード・ケネディスクール @Kennedy_School の学生たちと', '「福島に行くなら、ぜひ、地元の食を味わってください', '私は毎日いただいていて、おかげさまでとても元気です', '」と呼びかけました']),\n",
       "       list(['東日本大震災から５年が過ぎました', '最愛の御家族や御親族、御友人を亡くされた方々に、衷心より哀悼の意を捧げます', '御霊を前に永遠に安かれとお祈り申し上げるとともに、地域の創生につながる復興を成し遂げていくことの決意を新たに致しました']),\n",
       "       list(['福島で美味しい牛乳をいただきました', '５人の被災農家が力を合わせて酪農の再開を決意し、新しい牛舎ができて「がんばろうという気持ちになった', '」地域とのつながりを活かして、「酪農っていいね」と多くの人に言ってもらう夢を成就させてください']),\n",
       "       list([]),\n",
       "       list(['起き抜けに久々に公邸の庭に出ると、今年も庭の片隅に沈丁花が咲いていました', '最初の出会いは９年前、今年公邸でこの花と共に５回目の春を迎える事となりました', '決意を新たにしました', '花の香りに誘われての一枚', '皆さんにお届けしたいと想います']),\n",
       "       list([]),\n",
       "       list(['「ミス日本コンテスト」は、1950年に第1回が開催された歴史ある大会です', '1968年の優勝者は、大阪万博の親善使節として世界を回る前に、私の祖父・岸信介に会ったと伺いました', '日本の女性が、世界中で活躍することを応援したいと思います']),\n",
       "       list(['一人の結果が全員に影響する、究極のチームワーク', '正月の駅伝で完全優勝を果たした、青山学院大学の原監督と選手の皆さんは、優勝の感動をしみじみ語ってくれました', '選手たちは礼儀正しくも、明るく自由闊達で、大いに会話が盛り上がりました']),\n",
       "       list(['秒速８キロで宇宙空間を飛びながら、「こうのとり」をキャッチした油井宇宙飛行士', 'チームジャパンの中心として、日本の宇宙技術の高さを世界に示してくれました', '宇宙から撮影した富士山の写真をいただき、早速執務室に飾らせていただきました'])],\n",
       "      dtype=object)"
      ]
     },
     "execution_count": 60,
     "metadata": {},
     "output_type": "execute_result"
    }
   ],
   "source": [
    "chinese_array"
   ]
  },
  {
   "cell_type": "code",
   "execution_count": 62,
   "metadata": {},
   "outputs": [
    {
     "data": {
      "text/plain": [
       "'During the election period, candidates who of the Liberal Democratic Party is our economic policies throughout the country, the security, and the was I would like to appeal to everybody thought to support the future of the plays are going determination and regions of Japan. \"This country, defend.\" The Liberal Democratic Party will continue to be promoted to walk with everyone from now on. Thank you for your support really 12 days. https://twitter.com/jimin_koho/status/921744056987693057 ...'"
      ]
     },
     "execution_count": 62,
     "metadata": {},
     "output_type": "execute_result"
    }
   ],
   "source": [
    "dataset['English Translation']"
   ]
  },
  {
   "cell_type": "code",
   "execution_count": 64,
   "metadata": {},
   "outputs": [],
   "source": [
    "english = dataset['English Translation'].values"
   ]
  },
  {
   "cell_type": "code",
   "execution_count": 65,
   "metadata": {},
   "outputs": [
    {
     "data": {
      "text/plain": [
       "array(['During the election period, candidates who of the Liberal Democratic Party is our economic policies throughout the country, the security, and the was I would like to appeal to everybody thought to support the future of the plays are going determination and regions of Japan. \"This country, defend.\" The Liberal Democratic Party will continue to be promoted to walk with everyone from now on. Thank you for your support really 12 days. https://twitter.com/jimin_koho/status/921744056987693057 ...',\n",
       "       'Foreign visitors number has tripled over the past five years. Liberal Democratic Party is to strengthen the domestic tourism resources of traditional cultural assets of the efforts our country in tourism resources measures at a high level, we will continue to further implement the activation of the tourism industry. pic.twitter.com/EMNDcADrYB',\n",
       "       'Tomorrow, October 21 (Saturday) Susumusan Abe President Gifu Prefecture, Aichi Prefecture, will come to Tokyo. Come more information, please visit the special website of the Liberal Democratic Party. https://special.jimin.jp/',\n",
       "       'It has expanded the system, such as it is not necessary returned to start \"benefit scholarship\" and \"tuition fee exemption\", we will truly working to free higher education to the children that need help. Liberal Democratic Party need not give up that everyone learn, and raised always create a society in which Ikeru learn with confidence. pic.twitter.com/ZgAYDhlzDD',\n",
       "       'Tomorrow, October 20 (Friday) Susumusan Abe President Kanagawa Prefecture, we will come to Tokyo. Come more information, please visit the special website of the Liberal Democratic Party. https://special.jimin.jp/',\n",
       "       'Tomorrow, October 19 (Thursday) Susumusan Abe President Nara Prefecture, Kyoto Prefecture, will be with you in Shiga Prefecture. Come more information, please visit the special website of the Liberal Democratic Party. https://special.jimin.jp/',\n",
       "       'Farmer who began a new agriculture in the following three years in their 40s has more than 2 million people for three consecutive years. The Liberal Democratic Party support the support to challenge the Agriculture, Forestry and Fisheries who are young and motivated in everything, opening up by using our dreams and hope \"agricultural policy a new era\". pic.twitter.com/Fp0IqNYTSk',\n",
       "       'We LDP would like to strongly support the small and medium-sized companies that are supporting the Japanese economy. The property tax of small and medium-sized and small businesses from the thought, there was already available 30,000 close, including a system to half three years. Bankruptcy of small and medium-sized companies by the implementation of this system has also been reduced by 30%. We boldly promoted the support of to further enhance the productivity. pic.twitter.com/N9oB57kACi',\n",
       "       'Tomorrow, October 18 (Wednesday) Susumusan Abe President Saitama Prefecture, will come to Tokyo. Come more information, please visit the special website of the Liberal Democratic Party. https://special.jimin.jp/',\n",
       "       \"This election is from the threat of North Korea, is also a how to decide whether to protect a happy life and people's lives in the election. LDP diplomatic force that has been developed up to now, we will confront the resolute North Korean problem in a posture that does not shake and cooperation with the international community. pic.twitter.com/LWJdvsIGWp\",\n",
       "       'Tomorrow, October 16 (Monday) Susumusan Abe President will come to Osaka. Come more information, please visit the special website of the Liberal Democratic Party. https://special.jimin.jp/',\n",
       "       'GDP after the government replaced by a policy that we have pursued, including the three arrows abenomics has increased 50 trillion yen, the effective ratio of job offers to job seekers in all prefectures is progressing steadily recovery of the economy, such as more than one-fold. Further growth of the Japanese economy, is willing to strive to you are able to realize this growth to everyone each individual. pic.twitter.com/GJXi1sKneK',\n",
       "       'Tomorrow, October 15 (Sunday) Susumusan Abe President will come to Hokkaido. Come more information, please visit the special website of the Liberal Democratic Party. https://special.jimin.jp/ # Liberal Democratic Party # Shinzo Abe # soapbox',\n",
       "       'A year and a half from Kumamoto earthquake, we will accomplish the reconstruction at best to return to the original life with peace of mind quickly everyone of a number of victims have been forced to still crippled life is become a victim. # Defend this country # # House of Representatives election the Liberal Democratic Party pic.twitter.com/HSCeZwlQWl',\n",
       "       'Tomorrow, October 14 (Saturday) Susumusan Abe President Kagawa Prefecture, will be with you in Hyogo Prefecture. Come more information, please visit the special website of the Liberal Democratic Party. https://special.jimin.jp/ # Liberal Democratic Party # Shinzo Abe # soapbox',\n",
       "       'Japan, and to stop the safety threatening North Korea of \\u200b\\u200bthe outrage of the world, it must be multiplied by the maximum pressure in the international community as a whole. And above all, must never to obscure the Japanese abduction issue. Including Megumi Yokota, the people of all of the abductees to firmly step the land of Japan, it does not end our struggle. # LDP pic.twitter.com/iSFwmiD5yl',\n",
       "       'Tomorrow, October 13 (Friday) Susumusan Abe President Kagoshima Prefecture, Kumamoto Prefecture, will be with you in Nagasaki Prefecture. Come more information, please visit the special website of the Liberal Democratic Party. https://special.jimin.jp/ # Liberal Democratic Party # Shinzo Abe # soapbox',\n",
       "       'This election is a major theme, which is also asked that the \"Who is going to open up the children of the future.\". Japan, which reached a turning point by the declining birth rate. We LDP is the possibility of all of the children, we are supported by all generations type social security system, which was firm. pic.twitter.com/JJrYNlvXfl',\n",
       "       'Thank you really will gather you to a large number of everyone as \"LDP Good luck!\". Candidates our our party is in order to break through the national crisis, and I would like to appeal the policy to everyone at the end to best to live up to the expectations of everyone. Whether Thank you for your support. # Defend this country # # House of Representatives election the Liberal Democratic Party pic.twitter.com/EBdCyKT6om',\n",
       "       'Tomorrow, October 12 (Thursday) Susumusan Abe President will come to Niigata Prefecture. Come more information, please visit the special website of the Liberal Democratic Party. https://special.jimin.jp/ # Liberal Democratic Party # Shinzo Abe # soapbox',\n",
       "       'Tomorrow, October 11 (Wednesday) Susumusan Abe President Shizuoka Prefecture, will be with you in Aichi Prefecture. Come more information, please visit the special website of the Liberal Democratic Party. # Liberal Democratic Party # Shinzo Abe # soapbox https://special.jimin.jp',\n",
       "       'Finally today from the House of Representatives general election, election campaign starts. \"What commit anyone to Japan of the future or of committing this election is to anyone safety of Japan. It is an election to decide it.\" We Liberal Democratic Party sued the policy all over the country with full force, is a battle pull out determination. # # # House of Representatives election the Liberal Democratic Party pic.twitter.com/w3JxANPbz0 to defend this country',\n",
       "       'October 10 (Tuesday) is Susumusan Abe President speech dates were decided as follows tomorrow. Everyone, please join us. ● Susumusan Abe President (Fukushima Prefecture, Iwate Prefecture, Miyagi Prefecture) 10:35 dance Shoumatei facing Square (Fukushima Sahara) 13:40 Ichinoseki City Hall 15:45 Sendai Station East Shoei real estate before 16:30 AER before pic. twitter.com/qGha2Sytwb',\n",
       "       'From [Cast program announcement] October 8 (Sun) 21:00, Susumusan Abe President to AbemaTV of live broadcast program \"Toru of room\" we have decided to guest appearances. See everyone by all means! @ Program Click here for details https://abe.ma/2fN8Yz2',\n",
       "       '...... it is the secretary. This program announcement. Today 19: \"Net debate\" will be held at 30 Nico live broadcast. Join us, We look forward to a warm cheer comment. \"Smile live\" \"net debate\" 10/7 (Saturday) afternoon 7: 30~http: //sp.live2.nicovideo.jp/watch/lv307275744 ...',\n",
       "       \"Prime Minister since the inaugural year 2012, Tour of the world's 42 countries, went a summit meeting of 191 times. Now it is that Japan is faced with a national crisis, and the relationship of trust with countries around the world that have been built up, we will defend vigorously this country diplomatic force. pic.twitter.com/ocb08B1mTZ\",\n",
       "       'Large-scale shootings in indiscriminate, such as in this case are not allowed as it would be for any reason. Resolutely, and condemned. Japan is trying to climb over the time this is very difficult, to express our heartfelt solidarity to the United States and the United States national.',\n",
       "       'This time, the shooting incident, also referred to as the United States worst that occurred in Las Vegas, to the fact that the citizens of a number of innocent were killed, along with the big shock, I remember the strong resentment. People were sacrificed, also represents the heartfelt condolences against everyone of your family. And, we wish you a speedy recovery than a day of people that have been injured.',\n",
       "       'There is no chance of a minute in the crisis management in Japan. Again, I was so confident.',\n",
       "       \"Defend the people's life and peaceful living from the North Korean threat. But earnestly for the people, under the harsh working environment, withstand the constant tension, hit the silence mission they are, it is the pride of Japan. If the departure once, on top of the rough seas for more than a month. Also to your family of everyone that I am sending you sincerely would like to thank.\",\n",
       "       'Hit North Korea\\'s ballistic missile warning in the Sea of \\u200b\\u200bJapan, today, Aegis just returned to Maizuru of the home port of the \"Myoko\" to visit, we have encouraged everyone of SDF personnel. Everyone, indeed Tanomoshiku, I felt very encouraged as commander-in-chief. pic.twitter.com/NctWbpP8Ip',\n",
       "       'Finally election campaign begins. \"This country, defend.\" We are fair and square, we will appeal in the country a concrete policy. pic.twitter.com/XxjMAEJN16',\n",
       "       'I arrived in India. Modi is the Prime Minister gave pick you up at the airport. pic.twitter.com/eokEYb9IoT',\n",
       "       \"The mind to free. Premium Friday, was set to Zen meditation. It is busy every day, but after a long time to spend a quiet moment, now clean and calm feelings. After this, I think let's go to the Ueno Museum. pic.twitter.com/kWB5vHluSF\",\n",
       "       'KanHajime Prime Minister suddenly just before the upper house election before last, was sued me. Nothing but the publicity stunt for the purpose of disparaging me, ask the Mosei of KanHajime Prime Minister.',\n",
       "       'Former Prime Minister accused the Prime Minister of the incumbent, that was supposed to contend in court will not be sorry. I will be forced to devote to trial some of the time as Prime Minister. MPs each other, did not receive a protest even once.',\n",
       "       'The appeal dismissal of the Supreme Court, the final decision was down to just \"truth of victory\".',\n",
       "       'Our favor have been finalized by this decision. High Court ruling of September last year was acknowledged that the major part of my e-mail magazine article that reported the \"wrong judgment and lies\" in connection with the seawater injection of the Fukushima nuclear power plant of Prime Minister Kan is true. Kan former Prime Minister this judgment as a complaint had been appealed to the Supreme Court.',\n",
       "       'For defamation lawsuit against my mail magazine article entitled was filed from Naoto Kan, former Prime Minister, \"Prime Minister Kan of sea water injection is a hoax\", KanHajime Prime Minister but had appealed appealed the judgment of the Tokyo High Court, the Supreme Court It has dismissed the appeal. pic.twitter.com/mRuW3CrgbH',\n",
       "       'Happy New Year! This year is Nitorimashite everyone, and we will sincerely pray that will Nitorimashite a great year, Japan. I also continue to include a one year full force this year. pic.twitter.com/ySQd3KFfXT',\n",
       "       'Finally to welcome the President Vladimir Putin to his hometown Nagato, do the Japan-Russia summit meeting. Visit to Japan as president of President Vladimir Putin will be the first time in 11 years. Because such as delayed arrival of the President, and grave using that time, his later years, he was reported to his father that burned the tenacity to peace treaty. pic.twitter.com/4fohCiVnmC',\n",
       "       'pic.twitter.com/rz3Yl67W8I',\n",
       "       'Tomorrow is election day. It continues to be a tough fight in the country. Unplug fight until the last tightening themselves. Strong support of the future of the Liberal Democratic Party candidate who of Japan thank you. https://youtu.be/aZldSio8GXI',\n",
       "       'Stable politics has what is required now. To do this, the power of everyone is absolutely necessary. pic.twitter.com/HZk3DS9RIn',\n",
       "       'Stable politics has what is required now. To do this, the power of everyone is absolutely necessary. https://youtu.be/zFDmFYqMZqM',\n",
       "       '# Before the G7 # Ise-Shima Summit, # immigrants and # refugees, # counter-terrorism, in order to strengthen worldwide cooperation with issues such as # economy, http that could friendly and constructive discussions and @ AbeShinzo: //ow.ly/4nnvHK',\n",
       "       'Happy to meet Shinzo Abe to celebrate 150 years of strong diplomatic ties between our two countries # begovpic.twitter.com / QSRASvNmMc',\n",
       "       'pic.twitter.com/odyqgYB0vA',\n",
       "       'Removing radiation contaminated water in all weather, 365/24 at Fukushima. I am deeply thankful for dedication and commitment of our peers.',\n",
       "       'Heavy protective clothing for more than 5 kilometers under the scorching sun did not essential. Work to remove the highly contaminated water at Tokyo Electric Power Company Fukushima Daiichi nuclear power plant, there was at the forefront of untrodden of decommissioning work. To everyone, continue, with safety first, we would like to do my best to the next task. pic.twitter.com/Liubup6IPs',\n",
       "       'Fukushima \"landlady Board\" is, after the earthquake, came focused on overcoming outgoing and reputation of the Fukushima charm. The Kai There is also, Fukushima of tourism, be or are becoming slowly recovering. The world leaders to visit the Prime Minister\\'s Office, has been behaving the Fukushima sake and natural carbonated water. pic.twitter.com/pXhLqM7vzj',\n",
       "       'Yesterday, under the spring of warm sunshine, while admiring both the double cherry greet the future full bloom and continue to bloom tenaciously Yoshino cherry tree, I had a good time and a lot of everyone. \"Flowers in Japan in full bloom, go to such countries\", has decided its commitment to new. pic.twitter.com/sLfbZJKYFl',\n",
       "       \"Bringing back abductees to their families is my administration's top priority. We will work with our allies until our mission is complete.\",\n",
       "       '# Resolution of the abduction issue is the top priority of the Abe administration. To embrace is everyone of the abduction victims of the people and the families day comes, it does not end our mission. In order to recover the victims on the basis of the early Ku your family one day, in cooperation with the international community, we will work in full force. pic.twitter.com/dT1KerflBs',\n",
       "       \"Jakarta's theatrical group #en school singing Japanese requiem composed for the lost souls of the 2011 Tohoku earthquake at PM residence.\",\n",
       "       '\"Sakura, Sakihokore, Sakihokore in the middle of Japan\" \"I Japan, Sakihokore, Sakihokore in the middle of the world\" Jakarta university students everyone of the theater company \"en School\" is, sang on the side of the Sakura of official residence. Made attempts to cheer the Japan that was attacked by the Great East Japan Earthquake, is a Japanese song. pic.twitter.com/z26EmIxcff',\n",
       "       '\"I want you to run the No. 6 national highway of Hamadori to torchbearer.\" High school third grade of wishes of Futaba County, Fukushima Prefecture. They attend Iwaki City of satellite school after their graduation, the school is closed. Still, \"to cherish the rest of the high school life of one year, to the reconstruction of Fukushima Prefecture, I would like to help even a little.\" He said. pic.twitter.com/g6iPVDuwqf',\n",
       "       \"Close int'l cooperation needed in various areas and levels to prevent terrorists trying to use nuclear weapon #NuclearSecurity Summit\",\n",
       "       'Nuclear Security Summit, is now the last. Prevent the nucleus is used to terrorism. This will not be accomplished only one country. It must deal with international solidarity at all levels, and appealed. # NuclearSummitpic.twitter.com / 4sewoR7ExH',\n",
       "       'Such as nuclear tests and ballistic missile launches, in order to put the brakes on the provocative behavior of North Korea, strengthening of the Japan-US-ROK security and defense cooperation is the pressing issue. Obama President of the United States, in a meeting with Park Kune president of South Korea, have confirmed the corresponding policy and unity. pic.twitter.com/qxjFsDHyiV',\n",
       "       'US, Japan and South Korea recommitted steady united front against provocations and threats from North Korea.',\n",
       "       \"Good discussions w. Leading experts in economics in Washington. Japan's role in world economy that is uncertain is tremendously important.\",\n",
       "       'Former FRB chairman, former Secretary of the Treasury, and the experts of the economy such as the World Bank president, exchanged views on the Fight of the world economy. The maximum of the theme of Ise-Shima summit the world economy. Everyone in one voice \"in the uncertainty of the world economy increases, the role of Japan\\'s large\". Keenly aware of the high expectations of Japan. pic.twitter.com/eJ5LR4S3R8',\n",
       "       'Cyber \\u200b\\u200brescue dog \"Gonta\" in his life-saving suit developed for the Tough Robotics Challenge. Maximizing his ability to save more lives.',\n",
       "       'Gon thickness of cyber-rescue dog, wearing a suit fitted with a camera and sensors. Lifesaving at the disaster site is a race against time. Has been developed by the \"tough on Robotics and challenge\", in a suit in pursuit of freedom of movement, rescue dogs exhibit the inherent sense of smell and athletic ability. pic.twitter.com/XiKVw2BxOL',\n",
       "       'Today, the graduation ceremony of the National Defense Academy. Is the day of the beginnings of the young people face in the future severe \"on-site\". Protect the people\\'s life even when no matter how difficult, the Self-Defense Forces to protect the peaceful life. To the road to get to a difficult task, who progressed at their own volition they, Kanojora is the pride of Japan. pic.twitter.com/62FSRdvKOe',\n",
       "       'Today I attended the Spring Equinox Festival at the Imperial Palace, gave thanks for many gifts of Nature, of our culture and traditions.',\n",
       "       'The day of the vernal equinox today. The palace visit to the court, Spring kōreisai, we attended the Spring Festival temple. We are, today, received the blessings of nature, for it has been kept alive in the rich culture and tradition, along with the sacrifice deep gratitude, we wish more and more of Yasaka and the good harvest of the imperial family. pic.twitter.com/4OhfXdhUmO',\n",
       "       'At the National Security Council. North Korean missile launch, a clear breach of UN resolution, is unacceptable threat to Japanese security.',\n",
       "       \"This morning, the National Security Council (NSC) to urgently convene, check the correspondence of the government. Ballistic missile launch of North Korea is a clear Security Council resolution violation, is a serious provocation against our country's security. For any situation, we will every effort to ensure the public safety. pic.twitter.com/FXS7GztG20\",\n",
       "       'Students of the Harvard Kennedy School @Kennedy_School visit to the Fukushima disaster areas and. \"If you go to Fukushima, by all means, please taste the local food. I have earned every day, is very healthy. Thanks to you,\" was called for. pic.twitter.com/QObUQfjCDN',\n",
       "       '5 years from the Great East Japan Earthquake has passed. Beloved of your family and relatives, to those who have been lost to your friends, you dedicate condolences from the innermost feelings. With say prayers and Yasukare forever before the Spirit, we decided to renew our commitment to go accomplished the reconstruction leading to the creation of the region. pic.twitter.com/n2NPfR7E16',\n",
       "       'We had a delicious milk in Fukushima. 5 people in the affected farmers join forces decided to resume the dairy, \"it became a feeling that you work hard.\" Made a new barn taking advantage of the ties with the local community, many of the \"Like I dairy\" please let me fulfill the dream get to say to people. pic.twitter.com/gakkwxC2u4',\n",
       "       'pic.twitter.com/PhHW29bVWi',\n",
       "       \"Upon exiting after a long time the official residence of the garden to Okinuke, was also blooming daphne in a corner of the garden this year. The first encounter nine years ago, it became the be their fifth round of spring with this flower in this year's residence. I decided to have the new. One of being invited to the scent of flowers. We think that want to deliver to everyone. pic.twitter.com/6qTdSIEx1A\",\n",
       "       'The Ms Japan contest started in 1950. The winner in 1968 met my grandfather PM Kishi before travelling the world before the Osaka Expo.',\n",
       "       '\"Miss Japan contest\" is a historic tournament first round was held in 1950. Winner of 1968, before around the world as an ambassador of goodwill of the Osaka Expo, I heard my met grandfather-Shinsuke Kishi. Japanese women, I would like to support that active in the world. pic.twitter.com/WB1nrbytdk',\n",
       "       'One of the results will affect everyone, the ultimate teamwork. Played a complete victory in the relay race of the New Year, everyone of the original coach and players of Aoyama Gakuin University, told me keenly telling the excitement of the championship. Players courtesy also correctly, a bright, free and vigorous, much conversation was excitement. pic.twitter.com/wX9rebRmTD',\n",
       "       'While flying through space at eight kilometers per second, catch the oil well astronaut a \"stork\". As the center of the team Japan, the height of Japan\\'s space technology was it has shown to the world. Received a photo of Mount Fuji taken from space, I was immediately not decorated in the Oval Office. pic.twitter.com/ZFPYeem18c'],\n",
       "      dtype=object)"
      ]
     },
     "execution_count": 65,
     "metadata": {},
     "output_type": "execute_result"
    }
   ],
   "source": [
    "english"
   ]
  },
  {
   "cell_type": "code",
   "execution_count": 68,
   "metadata": {},
   "outputs": [],
   "source": [
    "english_sen = [] \n",
    "\n",
    "for line in dataset['English Translation']:\n",
    "    split = line.split('.')\n",
    "    english_sen.append(split)"
   ]
  },
  {
   "cell_type": "code",
   "execution_count": 70,
   "metadata": {},
   "outputs": [],
   "source": [
    "english_sen_array = np.array(english_sen)"
   ]
  },
  {
   "cell_type": "code",
   "execution_count": 95,
   "metadata": {},
   "outputs": [
    {
     "data": {
      "text/plain": [
       "79"
      ]
     },
     "execution_count": 95,
     "metadata": {},
     "output_type": "execute_result"
    }
   ],
   "source": [
    "english_last = []\n",
    "len(english_sen_array)"
   ]
  },
  {
   "cell_type": "code",
   "execution_count": 96,
   "metadata": {},
   "outputs": [],
   "source": [
    "df = pd.read_csv('DataSets/nlp/Sheet_1.csv')"
   ]
  },
  {
   "cell_type": "code",
   "execution_count": 97,
   "metadata": {},
   "outputs": [
    {
     "data": {
      "text/html": [
       "<div>\n",
       "<style scoped>\n",
       "    .dataframe tbody tr th:only-of-type {\n",
       "        vertical-align: middle;\n",
       "    }\n",
       "\n",
       "    .dataframe tbody tr th {\n",
       "        vertical-align: top;\n",
       "    }\n",
       "\n",
       "    .dataframe thead th {\n",
       "        text-align: right;\n",
       "    }\n",
       "</style>\n",
       "<table border=\"1\" class=\"dataframe\">\n",
       "  <thead>\n",
       "    <tr style=\"text-align: right;\">\n",
       "      <th></th>\n",
       "      <th>response_id</th>\n",
       "      <th>class</th>\n",
       "      <th>response_text</th>\n",
       "      <th>Unnamed: 3</th>\n",
       "      <th>Unnamed: 4</th>\n",
       "      <th>Unnamed: 5</th>\n",
       "      <th>Unnamed: 6</th>\n",
       "      <th>Unnamed: 7</th>\n",
       "    </tr>\n",
       "  </thead>\n",
       "  <tbody>\n",
       "    <tr>\n",
       "      <th>0</th>\n",
       "      <td>response_1</td>\n",
       "      <td>not_flagged</td>\n",
       "      <td>I try and avoid this sort of conflict</td>\n",
       "      <td>NaN</td>\n",
       "      <td>NaN</td>\n",
       "      <td>NaN</td>\n",
       "      <td>NaN</td>\n",
       "      <td>NaN</td>\n",
       "    </tr>\n",
       "    <tr>\n",
       "      <th>1</th>\n",
       "      <td>response_2</td>\n",
       "      <td>flagged</td>\n",
       "      <td>Had a friend open up to me about his mental ad...</td>\n",
       "      <td>NaN</td>\n",
       "      <td>NaN</td>\n",
       "      <td>NaN</td>\n",
       "      <td>NaN</td>\n",
       "      <td>NaN</td>\n",
       "    </tr>\n",
       "    <tr>\n",
       "      <th>2</th>\n",
       "      <td>response_3</td>\n",
       "      <td>flagged</td>\n",
       "      <td>I saved a girl from suicide once. She was goin...</td>\n",
       "      <td>NaN</td>\n",
       "      <td>NaN</td>\n",
       "      <td>NaN</td>\n",
       "      <td>NaN</td>\n",
       "      <td>NaN</td>\n",
       "    </tr>\n",
       "    <tr>\n",
       "      <th>3</th>\n",
       "      <td>response_4</td>\n",
       "      <td>not_flagged</td>\n",
       "      <td>i cant think of one really...i think i may hav...</td>\n",
       "      <td>NaN</td>\n",
       "      <td>NaN</td>\n",
       "      <td>NaN</td>\n",
       "      <td>NaN</td>\n",
       "      <td>NaN</td>\n",
       "    </tr>\n",
       "    <tr>\n",
       "      <th>4</th>\n",
       "      <td>response_5</td>\n",
       "      <td>not_flagged</td>\n",
       "      <td>Only really one friend who doesn't fit into th...</td>\n",
       "      <td></td>\n",
       "      <td>NaN</td>\n",
       "      <td>NaN</td>\n",
       "      <td>NaN</td>\n",
       "      <td>NaN</td>\n",
       "    </tr>\n",
       "  </tbody>\n",
       "</table>\n",
       "</div>"
      ],
      "text/plain": [
       "  response_id        class                                      response_text  \\\n",
       "0  response_1  not_flagged              I try and avoid this sort of conflict   \n",
       "1  response_2      flagged  Had a friend open up to me about his mental ad...   \n",
       "2  response_3      flagged  I saved a girl from suicide once. She was goin...   \n",
       "3  response_4  not_flagged  i cant think of one really...i think i may hav...   \n",
       "4  response_5  not_flagged  Only really one friend who doesn't fit into th...   \n",
       "\n",
       "  Unnamed: 3  Unnamed: 4 Unnamed: 5  Unnamed: 6 Unnamed: 7  \n",
       "0        NaN         NaN        NaN         NaN        NaN  \n",
       "1        NaN         NaN        NaN         NaN        NaN  \n",
       "2        NaN         NaN        NaN         NaN        NaN  \n",
       "3        NaN         NaN        NaN         NaN        NaN  \n",
       "4                    NaN        NaN         NaN        NaN  "
      ]
     },
     "execution_count": 97,
     "metadata": {},
     "output_type": "execute_result"
    }
   ],
   "source": [
    "df.head()"
   ]
  },
  {
   "cell_type": "code",
   "execution_count": 108,
   "metadata": {},
   "outputs": [],
   "source": [
    "cols = df.columns"
   ]
  },
  {
   "cell_type": "code",
   "execution_count": 102,
   "metadata": {},
   "outputs": [
    {
     "data": {
      "text/plain": [
       "Index(['response_id', 'class', 'response_text', 'Unnamed: 3', 'Unnamed: 4',\n",
       "       'Unnamed: 5', 'Unnamed: 6', 'Unnamed: 7'],\n",
       "      dtype='object')"
      ]
     },
     "execution_count": 102,
     "metadata": {},
     "output_type": "execute_result"
    }
   ],
   "source": [
    "cols"
   ]
  },
  {
   "cell_type": "code",
   "execution_count": 109,
   "metadata": {},
   "outputs": [],
   "source": [
    "cols = cols[[1,2]]"
   ]
  },
  {
   "cell_type": "code",
   "execution_count": 110,
   "metadata": {},
   "outputs": [
    {
     "data": {
      "text/plain": [
       "Index(['class', 'response_text'], dtype='object')"
      ]
     },
     "execution_count": 110,
     "metadata": {},
     "output_type": "execute_result"
    }
   ],
   "source": [
    "cols"
   ]
  },
  {
   "cell_type": "code",
   "execution_count": 114,
   "metadata": {},
   "outputs": [],
   "source": [
    "df = df[['class', 'response_text']]"
   ]
  },
  {
   "cell_type": "code",
   "execution_count": 115,
   "metadata": {},
   "outputs": [
    {
     "data": {
      "text/html": [
       "<div>\n",
       "<style scoped>\n",
       "    .dataframe tbody tr th:only-of-type {\n",
       "        vertical-align: middle;\n",
       "    }\n",
       "\n",
       "    .dataframe tbody tr th {\n",
       "        vertical-align: top;\n",
       "    }\n",
       "\n",
       "    .dataframe thead th {\n",
       "        text-align: right;\n",
       "    }\n",
       "</style>\n",
       "<table border=\"1\" class=\"dataframe\">\n",
       "  <thead>\n",
       "    <tr style=\"text-align: right;\">\n",
       "      <th></th>\n",
       "      <th>class</th>\n",
       "      <th>response_text</th>\n",
       "    </tr>\n",
       "  </thead>\n",
       "  <tbody>\n",
       "    <tr>\n",
       "      <th>0</th>\n",
       "      <td>not_flagged</td>\n",
       "      <td>I try and avoid this sort of conflict</td>\n",
       "    </tr>\n",
       "    <tr>\n",
       "      <th>1</th>\n",
       "      <td>flagged</td>\n",
       "      <td>Had a friend open up to me about his mental ad...</td>\n",
       "    </tr>\n",
       "    <tr>\n",
       "      <th>2</th>\n",
       "      <td>flagged</td>\n",
       "      <td>I saved a girl from suicide once. She was goin...</td>\n",
       "    </tr>\n",
       "    <tr>\n",
       "      <th>3</th>\n",
       "      <td>not_flagged</td>\n",
       "      <td>i cant think of one really...i think i may hav...</td>\n",
       "    </tr>\n",
       "    <tr>\n",
       "      <th>4</th>\n",
       "      <td>not_flagged</td>\n",
       "      <td>Only really one friend who doesn't fit into th...</td>\n",
       "    </tr>\n",
       "  </tbody>\n",
       "</table>\n",
       "</div>"
      ],
      "text/plain": [
       "         class                                      response_text\n",
       "0  not_flagged              I try and avoid this sort of conflict\n",
       "1      flagged  Had a friend open up to me about his mental ad...\n",
       "2      flagged  I saved a girl from suicide once. She was goin...\n",
       "3  not_flagged  i cant think of one really...i think i may hav...\n",
       "4  not_flagged  Only really one friend who doesn't fit into th..."
      ]
     },
     "execution_count": 115,
     "metadata": {},
     "output_type": "execute_result"
    }
   ],
   "source": [
    "df.head()"
   ]
  },
  {
   "cell_type": "code",
   "execution_count": 116,
   "metadata": {},
   "outputs": [],
   "source": [
    "from sklearn.preprocessing import LabelEncoder\n",
    "\n",
    "le = LabelEncoder()"
   ]
  },
  {
   "cell_type": "code",
   "execution_count": 121,
   "metadata": {},
   "outputs": [],
   "source": [
    "classed = le.fit_transform(df['class'])\n",
    "\n",
    "# 1 for not_fagged, 0 for flagged"
   ]
  },
  {
   "cell_type": "code",
   "execution_count": 122,
   "metadata": {},
   "outputs": [
    {
     "name": "stderr",
     "output_type": "stream",
     "text": [
      "C:\\Users\\User\\anaconda\\anaconda3\\lib\\site-packages\\ipykernel_launcher.py:1: SettingWithCopyWarning: \n",
      "A value is trying to be set on a copy of a slice from a DataFrame.\n",
      "Try using .loc[row_indexer,col_indexer] = value instead\n",
      "\n",
      "See the caveats in the documentation: https://pandas.pydata.org/pandas-docs/stable/user_guide/indexing.html#returning-a-view-versus-a-copy\n",
      "  \"\"\"Entry point for launching an IPython kernel.\n"
     ]
    }
   ],
   "source": [
    "df['Class'] = classed"
   ]
  },
  {
   "cell_type": "code",
   "execution_count": 123,
   "metadata": {},
   "outputs": [
    {
     "data": {
      "text/html": [
       "<div>\n",
       "<style scoped>\n",
       "    .dataframe tbody tr th:only-of-type {\n",
       "        vertical-align: middle;\n",
       "    }\n",
       "\n",
       "    .dataframe tbody tr th {\n",
       "        vertical-align: top;\n",
       "    }\n",
       "\n",
       "    .dataframe thead th {\n",
       "        text-align: right;\n",
       "    }\n",
       "</style>\n",
       "<table border=\"1\" class=\"dataframe\">\n",
       "  <thead>\n",
       "    <tr style=\"text-align: right;\">\n",
       "      <th></th>\n",
       "      <th>class</th>\n",
       "      <th>response_text</th>\n",
       "      <th>Class</th>\n",
       "    </tr>\n",
       "  </thead>\n",
       "  <tbody>\n",
       "    <tr>\n",
       "      <th>0</th>\n",
       "      <td>not_flagged</td>\n",
       "      <td>I try and avoid this sort of conflict</td>\n",
       "      <td>1</td>\n",
       "    </tr>\n",
       "    <tr>\n",
       "      <th>1</th>\n",
       "      <td>flagged</td>\n",
       "      <td>Had a friend open up to me about his mental ad...</td>\n",
       "      <td>0</td>\n",
       "    </tr>\n",
       "    <tr>\n",
       "      <th>2</th>\n",
       "      <td>flagged</td>\n",
       "      <td>I saved a girl from suicide once. She was goin...</td>\n",
       "      <td>0</td>\n",
       "    </tr>\n",
       "    <tr>\n",
       "      <th>3</th>\n",
       "      <td>not_flagged</td>\n",
       "      <td>i cant think of one really...i think i may hav...</td>\n",
       "      <td>1</td>\n",
       "    </tr>\n",
       "    <tr>\n",
       "      <th>4</th>\n",
       "      <td>not_flagged</td>\n",
       "      <td>Only really one friend who doesn't fit into th...</td>\n",
       "      <td>1</td>\n",
       "    </tr>\n",
       "  </tbody>\n",
       "</table>\n",
       "</div>"
      ],
      "text/plain": [
       "         class                                      response_text  Class\n",
       "0  not_flagged              I try and avoid this sort of conflict      1\n",
       "1      flagged  Had a friend open up to me about his mental ad...      0\n",
       "2      flagged  I saved a girl from suicide once. She was goin...      0\n",
       "3  not_flagged  i cant think of one really...i think i may hav...      1\n",
       "4  not_flagged  Only really one friend who doesn't fit into th...      1"
      ]
     },
     "execution_count": 123,
     "metadata": {},
     "output_type": "execute_result"
    }
   ],
   "source": [
    "df.head()"
   ]
  },
  {
   "cell_type": "code",
   "execution_count": 124,
   "metadata": {},
   "outputs": [],
   "source": [
    "df = df[['response_text', 'Class']]"
   ]
  },
  {
   "cell_type": "code",
   "execution_count": 126,
   "metadata": {},
   "outputs": [
    {
     "data": {
      "text/html": [
       "<div>\n",
       "<style scoped>\n",
       "    .dataframe tbody tr th:only-of-type {\n",
       "        vertical-align: middle;\n",
       "    }\n",
       "\n",
       "    .dataframe tbody tr th {\n",
       "        vertical-align: top;\n",
       "    }\n",
       "\n",
       "    .dataframe thead th {\n",
       "        text-align: right;\n",
       "    }\n",
       "</style>\n",
       "<table border=\"1\" class=\"dataframe\">\n",
       "  <thead>\n",
       "    <tr style=\"text-align: right;\">\n",
       "      <th></th>\n",
       "      <th>response_text</th>\n",
       "      <th>Class</th>\n",
       "    </tr>\n",
       "  </thead>\n",
       "  <tbody>\n",
       "    <tr>\n",
       "      <th>0</th>\n",
       "      <td>I try and avoid this sort of conflict</td>\n",
       "      <td>1</td>\n",
       "    </tr>\n",
       "    <tr>\n",
       "      <th>1</th>\n",
       "      <td>Had a friend open up to me about his mental ad...</td>\n",
       "      <td>0</td>\n",
       "    </tr>\n",
       "    <tr>\n",
       "      <th>2</th>\n",
       "      <td>I saved a girl from suicide once. She was goin...</td>\n",
       "      <td>0</td>\n",
       "    </tr>\n",
       "    <tr>\n",
       "      <th>3</th>\n",
       "      <td>i cant think of one really...i think i may hav...</td>\n",
       "      <td>1</td>\n",
       "    </tr>\n",
       "    <tr>\n",
       "      <th>4</th>\n",
       "      <td>Only really one friend who doesn't fit into th...</td>\n",
       "      <td>1</td>\n",
       "    </tr>\n",
       "  </tbody>\n",
       "</table>\n",
       "</div>"
      ],
      "text/plain": [
       "                                       response_text  Class\n",
       "0              I try and avoid this sort of conflict      1\n",
       "1  Had a friend open up to me about his mental ad...      0\n",
       "2  I saved a girl from suicide once. She was goin...      0\n",
       "3  i cant think of one really...i think i may hav...      1\n",
       "4  Only really one friend who doesn't fit into th...      1"
      ]
     },
     "execution_count": 126,
     "metadata": {},
     "output_type": "execute_result"
    }
   ],
   "source": [
    "df.head()"
   ]
  },
  {
   "cell_type": "code",
   "execution_count": 145,
   "metadata": {},
   "outputs": [],
   "source": [
    "text = df['response_text']"
   ]
  },
  {
   "cell_type": "code",
   "execution_count": 128,
   "metadata": {},
   "outputs": [
    {
     "data": {
      "text/plain": [
       "0                 I try and avoid this sort of conflict\n",
       "1     Had a friend open up to me about his mental ad...\n",
       "2     I saved a girl from suicide once. She was goin...\n",
       "3     i cant think of one really...i think i may hav...\n",
       "4     Only really one friend who doesn't fit into th...\n",
       "                            ...                        \n",
       "75    Now that I've been through it, although i'm no...\n",
       "76    when my best friends mom past away from od'ing...\n",
       "77    As a camp counselor I provide stability in kid...\n",
       "78    My now girlfriend used to have serious addicti...\n",
       "79    The one person I ever talked to it was because...\n",
       "Name: response_text, Length: 80, dtype: object"
      ]
     },
     "execution_count": 128,
     "metadata": {},
     "output_type": "execute_result"
    }
   ],
   "source": [
    "text"
   ]
  },
  {
   "cell_type": "code",
   "execution_count": 129,
   "metadata": {},
   "outputs": [],
   "source": [
    "text = np.array(text)"
   ]
  },
  {
   "cell_type": "code",
   "execution_count": 131,
   "metadata": {},
   "outputs": [],
   "source": [
    "from sklearn.feature_extraction.text import CountVectorizer"
   ]
  },
  {
   "cell_type": "code",
   "execution_count": 132,
   "metadata": {},
   "outputs": [],
   "source": [
    "count = CountVectorizer()\n",
    "\n",
    "bag = count.fit_transform(text)"
   ]
  },
  {
   "cell_type": "code",
   "execution_count": 135,
   "metadata": {},
   "outputs": [
    {
     "name": "stdout",
     "output_type": "stream",
     "text": [
      "{'try': 606, 'and': 31, 'avoid': 52, 'this': 581, 'sort': 517, 'of': 397, 'conflict': 117, 'had': 237, 'friend': 212, 'open': 408, 'up': 618, 'to': 592, 'me': 358, 'about': 3, 'his': 265, 'mental': 361, 'addiction': 10, 'weed': 635, 'how': 278, 'it': 301, 'was': 632, 'taking': 556, 'over': 415, 'life': 328, 'making': 353, 'him': 263, 'depressed': 136, 'saved': 480, 'girl': 220, 'from': 214, 'suicide': 540, 'once': 405, 'she': 496, 'going': 228, 'swallow': 550, 'bunch': 78, 'pills': 432, 'talked': 558, 'her': 259, 'out': 414, 'in': 286, 'very': 625, 'calm': 85, 'loving': 348, 'way': 633, 'cant': 92, 'think': 578, 'one': 406, 'really': 456, 'may': 356, 'have': 246, 'indirectly': 287, 'only': 407, 'who': 645, 'doesn': 148, 'fit': 206, 'into': 295, 'the': 567, 'any': 38, 'above': 4, 'categories': 96, 'therapist': 572, 'calls': 84, 'spiraling': 522, 'anyway': 41, 'pretty': 437, 'much': 373, 'time': 590, 'is': 297, 'frustrated': 215, 'by': 80, 'something': 514, 'with': 647, 'boyfriend': 73, 'ask': 47, 'if': 284, 'logical': 340, 'or': 410, 'not': 390, 'before': 61, 'they': 576, 'would': 652, 'just': 306, 'fight': 203, 'he': 249, 'call': 81, 'crazy': 125, 'now': 391, 'asks': 48, 'ok': 403, 'didn': 144, 'say': 482, 'please': 433, 'when': 641, 'said': 478, 'hand': 241, 'remote': 470, 'couple': 124, 'years': 657, 'ago': 17, 'my': 374, 'friends': 213, 'switch': 553, 'school': 484, 'because': 58, 'low': 349, 'self': 487, 'esteem': 174, 'too': 595, 'helped': 256, 'overcome': 416, 'that': 565, 'shit': 498, 'roommate': 475, 'through': 587, 'death': 134, 'loss': 345, 'gf': 219, 'did': 143, 'anything': 40, 'get': 218, 'bedroom': 59, 've': 622, 'you': 658, 'could': 121, 'more': 369, 'than': 563, 'quite': 449, 'severe': 492, 'depression': 137, 'emotional': 167, 'problems': 440, 'for': 210, 'while': 644, 'but': 79, 'eventually': 176, 'both': 72, 'relationships': 466, 'started': 526, 'suffer': 538, 'as': 46, 'result': 474, 'our': 413, 'personal': 429, 'listened': 333, 'someone': 513, 'talk': 557, 'relationship': 465, 'troubles': 604, 'offered': 400, 'some': 511, 'advice': 13, 'experience': 184, 'will': 646, 'always': 28, 'listen': 332, 'comforted': 110, 'sister': 504, 'lost': 346, 'virgity': 626, 'same': 479, 'night': 385, 'walked': 628, 'on': 404, 'cutting': 127, 'himself': 264, 'then': 571, 'parents': 419, 'found': 211, 'threw': 586, 'house': 277, 'part': 420, 'simply': 503, 'bring': 75, 'supportive': 545, 'focus': 209, 'took': 596, 'week': 636, 'off': 398, 'work': 650, 'packed': 418, 'car': 93, 'picked': 431, 'verge': 624, 'losing': 344, 'went': 638, 'camping': 88, 'surfing': 547, 'were': 639, 'big': 65, 'problem': 439, 'being': 62, 'away': 53, 'them': 569, 'others': 412, 'physical': 430, 'activity': 9, 'every': 178, 'day': 130, 'around': 45, 'feel': 197, 'memorial': 359, 'anniversary': 32, 'father': 196, 'give': 224, 'support': 543, 'remind': 469, 'alone': 23, 'anxious': 37, 'girlfriend': 221, 'needs': 381, 'help': 255, 'never': 383, 'mom': 367, 'ex': 181, 'cutter': 126, 'suicidal': 539, 'got': 231, 'own': 417, 'issues': 300, 'slowly': 509, 'dying': 160, 'inside': 292, 'advise': 14, 'faced': 191, 'circumstances': 103, 'similar': 502, 'mine': 366, 'tryin': 607, 'make': 352, 'better': 64, 'expressing': 187, 'concern': 115, 'openness': 409, 'are': 43, 'dealing': 132, 'letting': 326, 'know': 315, 'can': 90, 'fell': 200, 'dialog': 142, 'listening': 335, 'thinking': 579, 'after': 15, 'few': 202, 'days': 131, 'managed': 354, 'down': 152, 'having': 248, 'gone': 229, 'anxiety': 36, 'myself': 375, 'understand': 614, 'struggles': 533, 'methods': 363, 'cope': 119, 'stuff': 535, 'hits': 266, 'knowledge': 316, 'has': 245, 'allowed': 21, 'several': 491, 'people': 424, 'internet': 294, 'well': 637, 'other': 411, 'important': 285, 'offer': 399, 'experiences': 185, 'what': 640, 'face': 189, 'sometimes': 516, 'themselves': 570, 'good': 230, 'adequate': 11, 'normal': 389, 'be': 57, 'kind': 312, 'helpful': 257, 'honest': 270, 'guess': 234, 'dont': 150, 'see': 486, 'guy': 235, 'go': 226, 'last': 319, 'year': 655, 'best': 63, 'diagnosed': 141, 'disorder': 146, 'tried': 602, 'commit': 111, 'there': 574, 'entire': 172, 'throughout': 588, 'recovery': 457, 'cleaning': 105, 'campsite': 89, 'slightly': 508, 'helping': 258, 'living': 338, 'all': 20, 'summer': 541, 'an': 30, 'alcoholic': 19, 'mt': 372, 'hood': 271, 'woods': 649, 'damn': 128, 'at': 49, 'apposed': 42, 'telling': 562, 'story': 530, 'mother': 371, 'used': 620, 'tutor': 611, 'homeless': 269, 'men': 360, 'shelter': 497, 'obtain': 394, 'their': 568, 'ged': 217, 'age': 16, '50': 1, 'even': 175, 'reading': 453, 'first': 205, 'grade': 232, 'level': 327, 'am': 29, 'high': 262, 'teacher': 560, 'so': 510, 'almost': 22, 'everyday': 179, 'often': 401, 'come': 107, 're': 452, 'facing': 192, 'camp': 87, 'countless': 123, 'kids': 309, 'issue': 299, 'tell': 561, 'restless': 473, 'haha': 239, 'eight': 163, 'kid': 308, 'rejected': 461, 'twice': 612, 'wanted': 630, 'sign': 501, 'yearbook': 656, 'nervous': 382, 'told': 594, 'care': 94, 'rejecting': 462, 'thinks': 580, 'no': 387, 'less': 324, 'probably': 438, 'comes': 108, 'top': 597, 'head': 250, 'don': 149, 'specific': 519, 'example': 182, 'want': 629, 'type': 613, 'struggle': 532, 'been': 60, 'let': 325, 'yourself': 659, 'truth': 605, 'hurts': 282, 'start': 525, 'back': 54, 'ended': 170, 'completely': 114, 'isolated': 298, 'skipped': 507, 'convinced': 118, 'doc': 147, 'together': 593, 'promised': 442, 'everything': 180, 'rehab': 460, 'months': 368, 'clean': 104, 'complete': 113, 'lack': 318, 'family': 195, 'changed': 101, 'late': 320, 'like': 330, 'll': 339, 'listener': 334, 'lot': 347, 'heard': 254, 'necessarily': 378, 'fixed': 207, 'need': 379, 'express': 186, 'relief': 467, 'thoughts': 585, 'trapped': 599, 'within': 648, 'confines': 116, 'lent': 323, 'ear': 161, 'speak': 518, 'cancer': 91, 'during': 159, 'visited': 627, 'treatment': 601, 'came': 86, 'caught': 97, 'qualified': 447, 'serious': 489, 'resource': 471, 'else': 165, 'many': 355, 'times': 591, 'hard': 243, 'drugs': 155, 'cocaine': 106, 'girls': 223, 'dumps': 158, 'look': 342, 'positive': 434, 'side': 500, 'reflect': 459, 'lives': 337, 'theripist': 575, 'describe': 138, 'nah': 376, 'brother': 76, 'able': 2, 'set': 490, 'path': 422, 'healing': 251, 'dumped': 157, 'stayed': 527, 'until': 617, 'stopped': 529, 'feeling': 198, 'bad': 55, 'super': 542, 'kill': 310, 'drove': 154, '1n': 0, 'hour': 276, 'half': 240, 'cops': 120, 'already': 25, 'taken': 555, 'hospital': 275, 'hung': 281, 'also': 26, 'another': 33, 'person': 428, 'hadnt': 238, 'cause': 98, 'called': 82, 'blue': 69, 'thankgiving': 564, 'number': 392, 'knew': 314, 'huge': 279, 'douche': 151, 'psych': 444, 'ward': 631, 'trying': 608, 'hold': 267, 'whenever': 642, 'answer': 34, 'though': 583, 'still': 528, 'earlier': 162, 'mind': 365, 'might': 364, 'situation': 505, 'goal': 227, 'purpose': 446, 'sustained': 549, 'survival': 548, 'peoples': 425, 'little': 336, 'bit': 66, 'laugh': 321, 'sad': 477, 'nobody': 388, 'basically': 56, 'treat': 600, 'humans': 280, 'strangers': 531, 'respect': 472, 'kindness': 313, 'sometime': 515, 'swimming': 552, 'enough': 171, 'keep': 307, 'light': 329, 'end': 169, 'tunnel': 609, 'switched': 554, 'idk': 283, 'long': 341, 'here': 260, 'till': 589, 'flickers': 208, 'happens': 242, 'acted': 7, 'struggling': 534, 'schoolwork': 485, 'period': 427, 'intense': 293, 'made': 350, 'sure': 546, 'major': 351, 'blows': 68, 'girlfriends': 222, 'tough': 598, 'talking': 559, 'break': 74, 'write': 654, 'its': 302, 'related': 464, 'nice': 384, 'rant': 450, 'irl': 296, 'objective': 393, 'guys': 236, 'innermost': 290, 'feelings': 199, 'thats': 566, 'least': 322, 'jokingly': 303, 'refers': 458, 'agony': 18, 'aunt': 51, 'possibly': 436, 'dealt': 133, 'desire': 140, 'perfect': 426, 'describes': 139, 'caring': 95, 'either': 164, 'change': 100, 'subject': 536, 'drag': 153, 'due': 156, 'fact': 193, 'reality': 454, 'wouldn': 653, 'unless': 616, 'pulled': 445, 'giving': 225, 'needed': 380, 'hear': 253, 'such': 537, 'oh': 402, 'blow': 67, 'along': 24, 'lines': 331, 'blunt': 70, 'find': 204, 'rude': 476, 'essential': 173, 'progress': 441, 'somebody': 512, 'saying': 483, 'acquaintances': 6, 'known': 317, 'killed': 311, 'comfort': 109, 'junior': 305, 'hoping': 273, 'answers': 35, 'peace': 423, 'turmoil': 610, 'calling': 83, 'sense': 488, 'maybe': 357, 'facebook': 190, 'chat': 102, 'harmed': 244, 'past': 421, 'shared': 494, 'hopes': 272, 'swaying': 551, 'those': 582, 'actions': 8, 'worked': 651, 'admit': 12, 'brought': 77, 'initiated': 289, 'we': 634, 'health': 252, 'encourage': 168, 'therapy': 573, 'haven': 247, 'met': 362, 'anyone': 39, 'attention': 50, 'chance': 99, 'unfortunately': 615, 'remember': 468, 'specifically': 520, 'rational': 451, 'possible': 435, 'fairly': 194, 'common': 112, 'occurrence': 395, 'gave': 216, 'input': 291, 'absolutely': 5, 'horrable': 274, 'judge': 304, 'most': 370, 'naturally': 377, 'grandmother': 233, 'shortly': 499, 'difficulties': 145, 'using': 621, 'relate': 463, 'share': 493, 'although': 27, 'where': 643, 'extremely': 188, 'sharing': 495, 'situations': 506, 'questions': 448, 'hesitate': 261, 'email': 166, 'book': 71, 'excited': 183, 'od': 396, 'ing': 288, 'counselor': 122, 'provide': 443, 'stability': 524, 'troubled': 603, 'home': 268, 'dating': 129, 'felt': 201, 'defined': 135, 'thought': 584, 'saw': 481, 'looked': 343, 'spent': 521, 'nights': 386, 'vent': 623, 'supporting': 544, 'spot': 523, 'ever': 177, 'thing': 577, 'us': 619, 'realize': 455, 'aren': 44}\n"
     ]
    }
   ],
   "source": [
    "print(count.vocabulary_)"
   ]
  },
  {
   "cell_type": "code",
   "execution_count": 136,
   "metadata": {},
   "outputs": [
    {
     "data": {
      "text/plain": [
       "array([[0, 0, 0, ..., 0, 0, 0],\n",
       "       [0, 0, 0, ..., 0, 0, 0],\n",
       "       [0, 0, 0, ..., 0, 0, 0],\n",
       "       ...,\n",
       "       [0, 0, 0, ..., 0, 0, 0],\n",
       "       [0, 0, 0, ..., 0, 0, 0],\n",
       "       [0, 0, 0, ..., 0, 1, 0]], dtype=int64)"
      ]
     },
     "execution_count": 136,
     "metadata": {},
     "output_type": "execute_result"
    }
   ],
   "source": [
    "bag.toarray()"
   ]
  },
  {
   "cell_type": "code",
   "execution_count": 139,
   "metadata": {},
   "outputs": [],
   "source": [
    "from sklearn.feature_extraction.text import TfidfTransformer"
   ]
  },
  {
   "cell_type": "code",
   "execution_count": 140,
   "metadata": {},
   "outputs": [],
   "source": [
    "tt = TfidfTransformer(use_idf= True, norm= 'l2', smooth_idf=True)"
   ]
  },
  {
   "cell_type": "code",
   "execution_count": 141,
   "metadata": {},
   "outputs": [],
   "source": [
    "np.set_printoptions(precision =2)"
   ]
  },
  {
   "cell_type": "code",
   "execution_count": 143,
   "metadata": {},
   "outputs": [
    {
     "name": "stdout",
     "output_type": "stream",
     "text": [
      "[[0.   0.   0.   ... 0.   0.   0.  ]\n",
      " [0.   0.   0.   ... 0.   0.   0.  ]\n",
      " [0.   0.   0.   ... 0.   0.   0.  ]\n",
      " ...\n",
      " [0.   0.   0.   ... 0.   0.   0.  ]\n",
      " [0.   0.   0.   ... 0.   0.   0.  ]\n",
      " [0.   0.   0.   ... 0.   0.16 0.  ]]\n"
     ]
    }
   ],
   "source": [
    "print(tt.fit_transform(count.fit_transform(text)).toarray())"
   ]
  },
  {
   "cell_type": "code",
   "execution_count": 144,
   "metadata": {},
   "outputs": [],
   "source": [
    "import re"
   ]
  },
  {
   "cell_type": "code",
   "execution_count": 146,
   "metadata": {},
   "outputs": [],
   "source": [
    "text = df['response_text']"
   ]
  },
  {
   "cell_type": "code",
   "execution_count": 147,
   "metadata": {},
   "outputs": [],
   "source": [
    "X_train = text[:55]\n",
    "X_test = text[55:]\n",
    "y_train = df['Class'][:55]\n",
    "y_test = df['Class'][55:]"
   ]
  },
  {
   "cell_type": "code",
   "execution_count": 148,
   "metadata": {},
   "outputs": [],
   "source": [
    "from sklearn.feature_extraction.text import TfidfVectorizer"
   ]
  },
  {
   "cell_type": "code",
   "execution_count": 150,
   "metadata": {},
   "outputs": [],
   "source": [
    "tt = TfidfVectorizer(strip_accents=None, lowercase= True, preprocessor= None)"
   ]
  },
  {
   "cell_type": "code",
   "execution_count": 152,
   "metadata": {},
   "outputs": [
    {
     "name": "stderr",
     "output_type": "stream",
     "text": [
      "[nltk_data] Error loading stopwords: <urlopen error [Errno 11004]\n",
      "[nltk_data]     getaddrinfo failed>\n"
     ]
    },
    {
     "data": {
      "text/plain": [
       "False"
      ]
     },
     "execution_count": 152,
     "metadata": {},
     "output_type": "execute_result"
    }
   ],
   "source": [
    "import nltk\n",
    "\n",
    "nltk.download('stopwords')"
   ]
  },
  {
   "cell_type": "code",
   "execution_count": 155,
   "metadata": {},
   "outputs": [],
   "source": [
    "from nltk.corpus import stopwords\n",
    "from sklearn.pipeline import Pipeline\n",
    "from sklearn.linear_model import LogisticRegression\n",
    "from sklearn.model_selection import GridSearchCV"
   ]
  },
  {
   "cell_type": "code",
   "execution_count": 161,
   "metadata": {},
   "outputs": [],
   "source": [
    "\n",
    "lr_tt = Pipeline([('vect', tt), ('clf', LogisticRegression())])"
   ]
  },
  {
   "cell_type": "code",
   "execution_count": 163,
   "metadata": {},
   "outputs": [],
   "source": [
    "gs_lr_tt = GridSearchCV(lr_tt, scoring= 'acc', cv= 5, verbose=1, n_jobs=-1)\n"
   ]
  },
  {
   "cell_type": "code",
   "execution_count": null,
   "metadata": {},
   "outputs": [],
   "source": []
  }
 ],
 "metadata": {
  "kernelspec": {
   "display_name": "Python 3",
   "language": "python",
   "name": "python3"
  },
  "language_info": {
   "codemirror_mode": {
    "name": "ipython",
    "version": 3
   },
   "file_extension": ".py",
   "mimetype": "text/x-python",
   "name": "python",
   "nbconvert_exporter": "python",
   "pygments_lexer": "ipython3",
   "version": "3.7.7"
  }
 },
 "nbformat": 4,
 "nbformat_minor": 4
}
